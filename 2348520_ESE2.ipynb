{
 "cells": [
  {
   "cell_type": "markdown",
   "id": "ca3d8e8d-42ed-46af-bc58-e174aae7ff5b",
   "metadata": {},
   "source": [
    "## Question 1"
   ]
  },
  {
   "cell_type": "code",
   "execution_count": 48,
   "id": "2640d9ab-98fd-4833-a0e8-109e7476ec2d",
   "metadata": {},
   "outputs": [
    {
     "data": {
      "text/plain": [
       "[5, 6.25, 10.390625]"
      ]
     },
     "execution_count": 48,
     "metadata": {},
     "output_type": "execute_result"
    }
   ],
   "source": [
    "import numpy as np \n",
    "var = np.poly1d([1, -20, 100,-200]) \n",
    "derivative = var.deriv() \n",
    "starting=5\n",
    "prev_grad = 0\n",
    "momentum = 0.1\n",
    "descent=[]\n",
    "for i in range(3):\n",
    "    descent.append(starting)\n",
    "    grad = derivative(starting)\n",
    "    starting-=(0.05*grad + momentum*prev_grad)\n",
    "    prev_grad = grad\n",
    "descent"
   ]
  },
  {
   "cell_type": "markdown",
   "id": "aed2d488-a738-415f-bf72-dd1fa5636e80",
   "metadata": {},
   "source": [
    "## Question 2"
   ]
  },
  {
   "cell_type": "code",
   "execution_count": 42,
   "id": "ed1ee246-566a-45e1-8ea8-542b15e106bf",
   "metadata": {},
   "outputs": [
    {
     "name": "stdout",
     "output_type": "stream",
     "text": [
      "Sigmoid Leaky ReLU:  [0.49750002 0.5        0.73105858]\n",
      "Sigmoid:  [0.26894142 0.5        0.73105858]\n",
      "Leaky ReLU:  [-0.01  0.    1.  ]\n"
     ]
    }
   ],
   "source": [
    "x = np.array([-1, 0, 1])\n",
    "sigmoid=1/(1+np.exp(-x))\n",
    "leaky=np.maximum(0.01*x,x)\n",
    "sigmoidLeakyReLU=1/(1+np.exp(-leaky))\n",
    "print('Sigmoid Leaky ReLU: ',sigmoidLeakyReLU)\n",
    "print('Sigmoid: ',sigmoid)\n",
    "print('Leaky ReLU: ',leaky)"
   ]
  },
  {
   "cell_type": "markdown",
   "id": "38cb23fd-e532-4417-924a-7f8527dda0c5",
   "metadata": {},
   "source": [
    "## Question 3"
   ]
  },
  {
   "cell_type": "code",
   "execution_count": 40,
   "id": "b9e5f52b-24c3-40ad-a4ba-af198cc34301",
   "metadata": {},
   "outputs": [
    {
     "name": "stdout",
     "output_type": "stream",
     "text": [
      "0.802338563198603 -0.24308291452645078\n"
     ]
    }
   ],
   "source": [
    "x=np.random.uniform(-10, 10, 1000)\n",
    "y=np.random.uniform(-10, 10, 1000)\n",
    "X_value,Y_value=0,0\n",
    "for i in range(100):\n",
    "    x_batch=x[i*10:(i+1)*10]\n",
    "    y_batch=y[i*10:(i+1)*10]\n",
    "    grad_x=np.mean(2*x_batch)\n",
    "    grad_y=np.mean(2*y_batch)\n",
    "    X_value-=0.05*grad_x\n",
    "    Y_value-=0.05*grad_y\n",
    "print(X_value,Y_value)"
   ]
  },
  {
   "cell_type": "markdown",
   "id": "0b9a9690-420a-4d11-aab2-c6036b38307c",
   "metadata": {},
   "source": [
    "## Question 5a"
   ]
  },
  {
   "cell_type": "code",
   "execution_count": 25,
   "id": "ecd14dab-76a9-4e28-ba9a-449f6ab319bc",
   "metadata": {},
   "outputs": [],
   "source": [
    "def ercal(w1,w2,b,gate):\n",
    "    x1=[0,0,1,1]\n",
    "    x2=[0,1,0,1]\n",
    "    output=[]\n",
    "    error=[]\n",
    "    for i in range(0,4):\n",
    "        value=(x1[i]*w1)+(x2[i]*w2)-b\n",
    "        if value>=0:\n",
    "            output.append(1)\n",
    "        else:\n",
    "            output.append(0)\n",
    "        error1=gate[i]-output[i]\n",
    "        if error1==0:\n",
    "            error.append(0)\n",
    "        else:\n",
    "            error.append(error1)\n",
    "    print('x1=',x1)\n",
    "    print('x2=',x2)\n",
    "    print('y= ',gate)\n",
    "    print('ŷ= ',output)\n",
    "    print('ER=',error)\n",
    "    print('w1=',w1,'  w2=',w2,'  b=',b)\n",
    "    print('____________________________')\n",
    "    return error        "
   ]
  },
  {
   "cell_type": "code",
   "execution_count": 26,
   "id": "1c2470f3-3414-4307-af63-4b4530143c3f",
   "metadata": {},
   "outputs": [
    {
     "name": "stdout",
     "output_type": "stream",
     "text": [
      "x1= [0, 0, 1, 1]\n",
      "x2= [0, 1, 0, 1]\n",
      "y=  [0, 1, 1, 0]\n",
      "ŷ=  [1, 1, 1, 1]\n",
      "ER= [-1, 0, 0, -1]\n",
      "w1= 0.2   w2= 0.2   b= 0\n",
      "____________________________\n",
      "x1= [0, 0, 1, 1]\n",
      "x2= [0, 1, 0, 1]\n",
      "y=  [0, 1, 1, 0]\n",
      "ŷ=  [0, 1, 1, 1]\n",
      "ER= [0, 0, 0, -1]\n",
      "w1= 0.2   w2= 0.2   b= 0.1\n",
      "____________________________\n",
      "x1= [0, 0, 1, 1]\n",
      "x2= [0, 1, 0, 1]\n",
      "y=  [0, 1, 1, 0]\n",
      "ŷ=  [0, 0, 0, 1]\n",
      "ER= [0, 1, 1, -1]\n",
      "w1= 0.1   w2= 0.1   b= 0.2\n",
      "____________________________\n",
      "x1= [0, 0, 1, 1]\n",
      "x2= [0, 1, 0, 1]\n",
      "y=  [0, 1, 1, 0]\n",
      "ŷ=  [0, 1, 1, 1]\n",
      "ER= [0, 0, 0, -1]\n",
      "w1= 0.1   w2= 0.2   b= 0.1\n",
      "____________________________\n",
      "x1= [0, 0, 1, 1]\n",
      "x2= [0, 1, 0, 1]\n",
      "y=  [0, 1, 1, 0]\n",
      "ŷ=  [0, 0, 0, 0]\n",
      "ER= [0, 1, 1, 0]\n",
      "w1= 0.0   w2= 0.1   b= 0.2\n",
      "____________________________\n",
      "x1= [0, 0, 1, 1]\n",
      "x2= [0, 1, 0, 1]\n",
      "y=  [0, 1, 1, 0]\n",
      "ŷ=  [0, 1, 0, 1]\n",
      "ER= [0, 0, 1, -1]\n",
      "w1= 0.0   w2= 0.2   b= 0.1\n",
      "____________________________\n",
      "x1= [0, 0, 1, 1]\n",
      "x2= [0, 1, 0, 1]\n",
      "y=  [0, 1, 1, 0]\n",
      "ŷ=  [1, 1, 1, 1]\n",
      "ER= [-1, 0, 0, -1]\n",
      "w1= 0.1   w2= 0.2   b= 0.0\n",
      "____________________________\n",
      "x1= [0, 0, 1, 1]\n",
      "x2= [0, 1, 0, 1]\n",
      "y=  [0, 1, 1, 0]\n",
      "ŷ=  [0, 1, 1, 1]\n",
      "ER= [0, 0, 0, -1]\n",
      "w1= 0.1   w2= 0.2   b= 0.1\n",
      "____________________________\n",
      "x1= [0, 0, 1, 1]\n",
      "x2= [0, 1, 0, 1]\n",
      "y=  [0, 1, 1, 0]\n",
      "ŷ=  [0, 0, 0, 0]\n",
      "ER= [0, 1, 1, 0]\n",
      "w1= 0.0   w2= 0.1   b= 0.2\n",
      "____________________________\n",
      "x1= [0, 0, 1, 1]\n",
      "x2= [0, 1, 0, 1]\n",
      "y=  [0, 1, 1, 0]\n",
      "ŷ=  [0, 1, 0, 1]\n",
      "ER= [0, 0, 1, -1]\n",
      "w1= 0.0   w2= 0.2   b= 0.1\n",
      "____________________________\n",
      "x1= [0, 0, 1, 1]\n",
      "x2= [0, 1, 0, 1]\n",
      "y=  [0, 1, 1, 0]\n",
      "ŷ=  [1, 1, 1, 1]\n",
      "ER= [-1, 0, 0, -1]\n",
      "w1= 0.1   w2= 0.2   b= 0.0\n",
      "____________________________\n",
      "x1= [0, 0, 1, 1]\n",
      "x2= [0, 1, 0, 1]\n",
      "y=  [0, 1, 1, 0]\n",
      "ŷ=  [0, 1, 1, 1]\n",
      "ER= [0, 0, 0, -1]\n",
      "w1= 0.1   w2= 0.2   b= 0.1\n",
      "____________________________\n",
      "x1= [0, 0, 1, 1]\n",
      "x2= [0, 1, 0, 1]\n",
      "y=  [0, 1, 1, 0]\n",
      "ŷ=  [0, 0, 0, 0]\n",
      "ER= [0, 1, 1, 0]\n",
      "w1= 0.0   w2= 0.1   b= 0.2\n",
      "____________________________\n",
      "x1= [0, 0, 1, 1]\n",
      "x2= [0, 1, 0, 1]\n",
      "y=  [0, 1, 1, 0]\n",
      "ŷ=  [0, 1, 0, 1]\n",
      "ER= [0, 0, 1, -1]\n",
      "w1= 0.0   w2= 0.2   b= 0.1\n",
      "____________________________\n",
      "x1= [0, 0, 1, 1]\n",
      "x2= [0, 1, 0, 1]\n",
      "y=  [0, 1, 1, 0]\n",
      "ŷ=  [1, 1, 1, 1]\n",
      "ER= [-1, 0, 0, -1]\n",
      "w1= 0.1   w2= 0.2   b= 0.0\n",
      "____________________________\n",
      "x1= [0, 0, 1, 1]\n",
      "x2= [0, 1, 0, 1]\n",
      "y=  [0, 1, 1, 0]\n",
      "ŷ=  [0, 1, 1, 1]\n",
      "ER= [0, 0, 0, -1]\n",
      "w1= 0.1   w2= 0.2   b= 0.1\n",
      "____________________________\n",
      "x1= [0, 0, 1, 1]\n",
      "x2= [0, 1, 0, 1]\n",
      "y=  [0, 1, 1, 0]\n",
      "ŷ=  [0, 0, 0, 0]\n",
      "ER= [0, 1, 1, 0]\n",
      "w1= 0.0   w2= 0.1   b= 0.2\n",
      "____________________________\n",
      "x1= [0, 0, 1, 1]\n",
      "x2= [0, 1, 0, 1]\n",
      "y=  [0, 1, 1, 0]\n",
      "ŷ=  [0, 1, 0, 1]\n",
      "ER= [0, 0, 1, -1]\n",
      "w1= 0.0   w2= 0.2   b= 0.1\n",
      "____________________________\n",
      "x1= [0, 0, 1, 1]\n",
      "x2= [0, 1, 0, 1]\n",
      "y=  [0, 1, 1, 0]\n",
      "ŷ=  [1, 1, 1, 1]\n",
      "ER= [-1, 0, 0, -1]\n",
      "w1= 0.1   w2= 0.2   b= 0.0\n",
      "____________________________\n",
      "x1= [0, 0, 1, 1]\n",
      "x2= [0, 1, 0, 1]\n",
      "y=  [0, 1, 1, 0]\n",
      "ŷ=  [0, 1, 1, 1]\n",
      "ER= [0, 0, 0, -1]\n",
      "w1= 0.1   w2= 0.2   b= 0.1\n",
      "____________________________\n",
      "x1= [0, 0, 1, 1]\n",
      "x2= [0, 1, 0, 1]\n",
      "y=  [0, 1, 1, 0]\n",
      "ŷ=  [0, 0, 0, 0]\n",
      "ER= [0, 1, 1, 0]\n",
      "w1= 0.0   w2= 0.1   b= 0.2\n",
      "____________________________\n",
      "x1= [0, 0, 1, 1]\n",
      "x2= [0, 1, 0, 1]\n",
      "y=  [0, 1, 1, 0]\n",
      "ŷ=  [0, 1, 0, 1]\n",
      "ER= [0, 0, 1, -1]\n",
      "w1= 0.0   w2= 0.2   b= 0.1\n",
      "____________________________\n"
     ]
    }
   ],
   "source": [
    "c = 0\n",
    "x1=[0,0,1,1]\n",
    "x2=[0,1,0,1]\n",
    "gate=[0,1,1,0]\n",
    "b=0\n",
    "w1=0.2\n",
    "w2=0.2\n",
    "error=ercal(w1,w2,b,gate)\n",
    "while sum(list(map(abs, error)))!=0 and c<=20:\n",
    "    for i in range(0,4):\n",
    "        if error[i]>0:\n",
    "            w1=w1+(x1[i]*0.1)\n",
    "            w2=w2+(x2[i]*0.1)\n",
    "            b-=0.1\n",
    "            break\n",
    "        elif error[i]<0:\n",
    "            w1=w1-(x1[i]*0.1)\n",
    "            w2=w2-(x2[i]*0.1)\n",
    "            b+=0.1\n",
    "            break\n",
    "    error=ercal(w1,w2,b,gate)\n",
    "    c += 1"
   ]
  },
  {
   "cell_type": "markdown",
   "id": "fced2f7f-2a82-4d6c-95a5-8c7e2a39b1a0",
   "metadata": {},
   "source": [
    "## Question 5b"
   ]
  },
  {
   "cell_type": "code",
   "execution_count": 44,
   "id": "262cc7a4-ff2e-49aa-8bcb-cdb48ff46be7",
   "metadata": {},
   "outputs": [],
   "source": [
    "from keras.models import Sequential\n",
    "from keras.layers import Dense, Conv2D, MaxPool2D, Flatten, Input\n",
    "CNN_model=Sequential()\n",
    "CNN_model.add(Input(shape=(32,32,1)))\n",
    "CNN_model.add(Conv2D(16, kernel_size=(3,3), strides=(1,1)))\n",
    "CNN_model.add(MaxPool2D(pool_size=(2,2),strides=(1,1)))\n",
    "CNN_model.add(Flatten())\n",
    "CNN_model.add(Dense(256))"
   ]
  },
  {
   "cell_type": "code",
   "execution_count": 45,
   "id": "9e7188f4-a89a-4f94-9d15-de7f67f16465",
   "metadata": {},
   "outputs": [
    {
     "name": "stdout",
     "output_type": "stream",
     "text": [
      "Model: \"sequential_3\"\n",
      "_________________________________________________________________\n",
      " Layer (type)                Output Shape              Param #   \n",
      "=================================================================\n",
      " conv2d_3 (Conv2D)           (None, 30, 30, 16)        160       \n",
      "                                                                 \n",
      " max_pooling2d_2 (MaxPoolin  (None, 29, 29, 16)        0         \n",
      " g2D)                                                            \n",
      "                                                                 \n",
      " flatten_2 (Flatten)         (None, 13456)             0         \n",
      "                                                                 \n",
      " dense_2 (Dense)             (None, 256)               3444992   \n",
      "                                                                 \n",
      "=================================================================\n",
      "Total params: 3445152 (13.14 MB)\n",
      "Trainable params: 3445152 (13.14 MB)\n",
      "Non-trainable params: 0 (0.00 Byte)\n",
      "_________________________________________________________________\n"
     ]
    }
   ],
   "source": [
    "CNN_model.summary()"
   ]
  },
  {
   "cell_type": "code",
   "execution_count": null,
   "id": "b6db1784-adda-4af4-8073-1f81724d78ad",
   "metadata": {},
   "outputs": [],
   "source": []
  }
 ],
 "metadata": {
  "kernelspec": {
   "display_name": "Python 3 (ipykernel)",
   "language": "python",
   "name": "python3"
  },
  "language_info": {
   "codemirror_mode": {
    "name": "ipython",
    "version": 3
   },
   "file_extension": ".py",
   "mimetype": "text/x-python",
   "name": "python",
   "nbconvert_exporter": "python",
   "pygments_lexer": "ipython3",
   "version": "3.11.7"
  }
 },
 "nbformat": 4,
 "nbformat_minor": 5
}
