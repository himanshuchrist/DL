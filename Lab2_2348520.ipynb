{
 "cells": [
  {
   "cell_type": "markdown",
   "id": "189fda51",
   "metadata": {},
   "source": [
    "## Multilayer Perceptrons"
   ]
  },
  {
   "cell_type": "markdown",
   "id": "b619fe53",
   "metadata": {},
   "source": [
    "### Importing the dataset\n"
   ]
  },
  {
   "cell_type": "code",
   "execution_count": 20,
   "id": "f6c8072a",
   "metadata": {},
   "outputs": [
    {
     "data": {
      "text/html": [
       "<div>\n",
       "<style scoped>\n",
       "    .dataframe tbody tr th:only-of-type {\n",
       "        vertical-align: middle;\n",
       "    }\n",
       "\n",
       "    .dataframe tbody tr th {\n",
       "        vertical-align: top;\n",
       "    }\n",
       "\n",
       "    .dataframe thead th {\n",
       "        text-align: right;\n",
       "    }\n",
       "</style>\n",
       "<table border=\"1\" class=\"dataframe\">\n",
       "  <thead>\n",
       "    <tr style=\"text-align: right;\">\n",
       "      <th></th>\n",
       "      <th>Time</th>\n",
       "      <th>V1</th>\n",
       "      <th>V2</th>\n",
       "      <th>V3</th>\n",
       "      <th>V4</th>\n",
       "      <th>V5</th>\n",
       "      <th>V6</th>\n",
       "      <th>V7</th>\n",
       "      <th>V8</th>\n",
       "      <th>V9</th>\n",
       "      <th>...</th>\n",
       "      <th>V21</th>\n",
       "      <th>V22</th>\n",
       "      <th>V23</th>\n",
       "      <th>V24</th>\n",
       "      <th>V25</th>\n",
       "      <th>V26</th>\n",
       "      <th>V27</th>\n",
       "      <th>V28</th>\n",
       "      <th>Amount</th>\n",
       "      <th>Class</th>\n",
       "    </tr>\n",
       "  </thead>\n",
       "  <tbody>\n",
       "    <tr>\n",
       "      <th>0</th>\n",
       "      <td>0.0</td>\n",
       "      <td>-1.359807</td>\n",
       "      <td>-0.072781</td>\n",
       "      <td>2.536347</td>\n",
       "      <td>1.378155</td>\n",
       "      <td>-0.338321</td>\n",
       "      <td>0.462388</td>\n",
       "      <td>0.239599</td>\n",
       "      <td>0.098698</td>\n",
       "      <td>0.363787</td>\n",
       "      <td>...</td>\n",
       "      <td>-0.018307</td>\n",
       "      <td>0.277838</td>\n",
       "      <td>-0.110474</td>\n",
       "      <td>0.066928</td>\n",
       "      <td>0.128539</td>\n",
       "      <td>-0.189115</td>\n",
       "      <td>0.133558</td>\n",
       "      <td>-0.021053</td>\n",
       "      <td>149.62</td>\n",
       "      <td>0</td>\n",
       "    </tr>\n",
       "    <tr>\n",
       "      <th>1</th>\n",
       "      <td>0.0</td>\n",
       "      <td>1.191857</td>\n",
       "      <td>0.266151</td>\n",
       "      <td>0.166480</td>\n",
       "      <td>0.448154</td>\n",
       "      <td>0.060018</td>\n",
       "      <td>-0.082361</td>\n",
       "      <td>-0.078803</td>\n",
       "      <td>0.085102</td>\n",
       "      <td>-0.255425</td>\n",
       "      <td>...</td>\n",
       "      <td>-0.225775</td>\n",
       "      <td>-0.638672</td>\n",
       "      <td>0.101288</td>\n",
       "      <td>-0.339846</td>\n",
       "      <td>0.167170</td>\n",
       "      <td>0.125895</td>\n",
       "      <td>-0.008983</td>\n",
       "      <td>0.014724</td>\n",
       "      <td>2.69</td>\n",
       "      <td>0</td>\n",
       "    </tr>\n",
       "    <tr>\n",
       "      <th>2</th>\n",
       "      <td>1.0</td>\n",
       "      <td>-1.358354</td>\n",
       "      <td>-1.340163</td>\n",
       "      <td>1.773209</td>\n",
       "      <td>0.379780</td>\n",
       "      <td>-0.503198</td>\n",
       "      <td>1.800499</td>\n",
       "      <td>0.791461</td>\n",
       "      <td>0.247676</td>\n",
       "      <td>-1.514654</td>\n",
       "      <td>...</td>\n",
       "      <td>0.247998</td>\n",
       "      <td>0.771679</td>\n",
       "      <td>0.909412</td>\n",
       "      <td>-0.689281</td>\n",
       "      <td>-0.327642</td>\n",
       "      <td>-0.139097</td>\n",
       "      <td>-0.055353</td>\n",
       "      <td>-0.059752</td>\n",
       "      <td>378.66</td>\n",
       "      <td>0</td>\n",
       "    </tr>\n",
       "    <tr>\n",
       "      <th>3</th>\n",
       "      <td>1.0</td>\n",
       "      <td>-0.966272</td>\n",
       "      <td>-0.185226</td>\n",
       "      <td>1.792993</td>\n",
       "      <td>-0.863291</td>\n",
       "      <td>-0.010309</td>\n",
       "      <td>1.247203</td>\n",
       "      <td>0.237609</td>\n",
       "      <td>0.377436</td>\n",
       "      <td>-1.387024</td>\n",
       "      <td>...</td>\n",
       "      <td>-0.108300</td>\n",
       "      <td>0.005274</td>\n",
       "      <td>-0.190321</td>\n",
       "      <td>-1.175575</td>\n",
       "      <td>0.647376</td>\n",
       "      <td>-0.221929</td>\n",
       "      <td>0.062723</td>\n",
       "      <td>0.061458</td>\n",
       "      <td>123.50</td>\n",
       "      <td>0</td>\n",
       "    </tr>\n",
       "    <tr>\n",
       "      <th>4</th>\n",
       "      <td>2.0</td>\n",
       "      <td>-1.158233</td>\n",
       "      <td>0.877737</td>\n",
       "      <td>1.548718</td>\n",
       "      <td>0.403034</td>\n",
       "      <td>-0.407193</td>\n",
       "      <td>0.095921</td>\n",
       "      <td>0.592941</td>\n",
       "      <td>-0.270533</td>\n",
       "      <td>0.817739</td>\n",
       "      <td>...</td>\n",
       "      <td>-0.009431</td>\n",
       "      <td>0.798278</td>\n",
       "      <td>-0.137458</td>\n",
       "      <td>0.141267</td>\n",
       "      <td>-0.206010</td>\n",
       "      <td>0.502292</td>\n",
       "      <td>0.219422</td>\n",
       "      <td>0.215153</td>\n",
       "      <td>69.99</td>\n",
       "      <td>0</td>\n",
       "    </tr>\n",
       "  </tbody>\n",
       "</table>\n",
       "<p>5 rows × 31 columns</p>\n",
       "</div>"
      ],
      "text/plain": [
       "   Time        V1        V2        V3        V4        V5        V6        V7  \\\n",
       "0   0.0 -1.359807 -0.072781  2.536347  1.378155 -0.338321  0.462388  0.239599   \n",
       "1   0.0  1.191857  0.266151  0.166480  0.448154  0.060018 -0.082361 -0.078803   \n",
       "2   1.0 -1.358354 -1.340163  1.773209  0.379780 -0.503198  1.800499  0.791461   \n",
       "3   1.0 -0.966272 -0.185226  1.792993 -0.863291 -0.010309  1.247203  0.237609   \n",
       "4   2.0 -1.158233  0.877737  1.548718  0.403034 -0.407193  0.095921  0.592941   \n",
       "\n",
       "         V8        V9  ...       V21       V22       V23       V24       V25  \\\n",
       "0  0.098698  0.363787  ... -0.018307  0.277838 -0.110474  0.066928  0.128539   \n",
       "1  0.085102 -0.255425  ... -0.225775 -0.638672  0.101288 -0.339846  0.167170   \n",
       "2  0.247676 -1.514654  ...  0.247998  0.771679  0.909412 -0.689281 -0.327642   \n",
       "3  0.377436 -1.387024  ... -0.108300  0.005274 -0.190321 -1.175575  0.647376   \n",
       "4 -0.270533  0.817739  ... -0.009431  0.798278 -0.137458  0.141267 -0.206010   \n",
       "\n",
       "        V26       V27       V28  Amount  Class  \n",
       "0 -0.189115  0.133558 -0.021053  149.62      0  \n",
       "1  0.125895 -0.008983  0.014724    2.69      0  \n",
       "2 -0.139097 -0.055353 -0.059752  378.66      0  \n",
       "3 -0.221929  0.062723  0.061458  123.50      0  \n",
       "4  0.502292  0.219422  0.215153   69.99      0  \n",
       "\n",
       "[5 rows x 31 columns]"
      ]
     },
     "execution_count": 20,
     "metadata": {},
     "output_type": "execute_result"
    }
   ],
   "source": [
    "import pandas as pd\n",
    "data=pd.read_csv('/Users/himanshugulechha/Desktop/MSc AI&ML/Sem3/DL/creditcard.csv')\n",
    "data.head()"
   ]
  },
  {
   "cell_type": "markdown",
   "id": "10b801b5",
   "metadata": {},
   "source": [
    "### checking for null values"
   ]
  },
  {
   "cell_type": "code",
   "execution_count": 21,
   "id": "610ca968",
   "metadata": {},
   "outputs": [
    {
     "data": {
      "text/plain": [
       "Time      0\n",
       "V1        0\n",
       "V2        0\n",
       "V3        0\n",
       "V4        0\n",
       "V5        0\n",
       "V6        0\n",
       "V7        0\n",
       "V8        0\n",
       "V9        0\n",
       "V10       0\n",
       "V11       0\n",
       "V12       0\n",
       "V13       0\n",
       "V14       0\n",
       "V15       0\n",
       "V16       0\n",
       "V17       0\n",
       "V18       0\n",
       "V19       0\n",
       "V20       0\n",
       "V21       0\n",
       "V22       0\n",
       "V23       0\n",
       "V24       0\n",
       "V25       0\n",
       "V26       0\n",
       "V27       0\n",
       "V28       0\n",
       "Amount    0\n",
       "Class     0\n",
       "dtype: int64"
      ]
     },
     "execution_count": 21,
     "metadata": {},
     "output_type": "execute_result"
    }
   ],
   "source": [
    "data.isnull().sum()"
   ]
  },
  {
   "cell_type": "markdown",
   "id": "6874dc58",
   "metadata": {},
   "source": [
    "### Standardizing "
   ]
  },
  {
   "cell_type": "code",
   "execution_count": 22,
   "id": "9bd0620b",
   "metadata": {},
   "outputs": [],
   "source": [
    "from sklearn.preprocessing import StandardScaler\n",
    "x=data.drop(columns=['Class','Time'])\n",
    "y=data['Class']\n",
    "sc=StandardScaler()\n",
    "x=sc.fit_transform(x)"
   ]
  },
  {
   "cell_type": "markdown",
   "id": "08d32f3a",
   "metadata": {},
   "source": [
    "### Splitting the dataset"
   ]
  },
  {
   "cell_type": "code",
   "execution_count": 23,
   "id": "51bbfb07",
   "metadata": {},
   "outputs": [],
   "source": [
    "from sklearn.model_selection import train_test_split\n",
    "x_train,x_test,y_train,y_test=train_test_split(x,y,test_size=0.2,stratify=y)"
   ]
  },
  {
   "cell_type": "markdown",
   "id": "2d8b07d0",
   "metadata": {},
   "source": [
    "### Importing necessary libraries"
   ]
  },
  {
   "cell_type": "code",
   "execution_count": 24,
   "id": "08f64727",
   "metadata": {},
   "outputs": [],
   "source": [
    "import tensorflow as tf\n",
    "from tensorflow.keras.models import Sequential\n",
    "from tensorflow.keras.layers import Activation\n",
    "from tensorflow.keras.layers import Dense"
   ]
  },
  {
   "cell_type": "markdown",
   "id": "4fca28ff",
   "metadata": {},
   "source": [
    "### creating a hidden layer consisting 15 neurons with relu activation and sigmoid activation for output"
   ]
  },
  {
   "cell_type": "code",
   "execution_count": 25,
   "id": "f9450fd8",
   "metadata": {},
   "outputs": [],
   "source": [
    "model = Sequential([ \n",
    "    Dense(input_dim=29,units=15, activation='relu'),\n",
    "    Dense(units=1, activation='sigmoid')\n",
    "]) "
   ]
  },
  {
   "cell_type": "markdown",
   "id": "2dd3d832",
   "metadata": {},
   "source": [
    "### Compiling using Adam optimizer "
   ]
  },
  {
   "cell_type": "code",
   "execution_count": 26,
   "id": "d7358eed",
   "metadata": {},
   "outputs": [],
   "source": [
    "model.compile(optimizer='adam', \n",
    "              loss='binary_crossentropy', \n",
    "              metrics=['accuracy']) "
   ]
  },
  {
   "cell_type": "markdown",
   "id": "e3d637c3",
   "metadata": {},
   "source": [
    "### Creating 10 epocs with batch of 1000"
   ]
  },
  {
   "cell_type": "code",
   "execution_count": 27,
   "id": "156400c3",
   "metadata": {},
   "outputs": [
    {
     "name": "stdout",
     "output_type": "stream",
     "text": [
      "Epoch 1/10\n",
      "183/183 [==============================] - 0s 895us/step - loss: 0.3494 - accuracy: 0.8931 - val_loss: 0.1262 - val_accuracy: 0.9975\n",
      "Epoch 2/10\n",
      "183/183 [==============================] - 0s 623us/step - loss: 0.0717 - accuracy: 0.9985 - val_loss: 0.0408 - val_accuracy: 0.9989\n",
      "Epoch 3/10\n",
      "183/183 [==============================] - 0s 628us/step - loss: 0.0288 - accuracy: 0.9990 - val_loss: 0.0210 - val_accuracy: 0.9990\n",
      "Epoch 4/10\n",
      "183/183 [==============================] - 0s 622us/step - loss: 0.0165 - accuracy: 0.9991 - val_loss: 0.0136 - val_accuracy: 0.9991\n",
      "Epoch 5/10\n",
      "183/183 [==============================] - 0s 653us/step - loss: 0.0114 - accuracy: 0.9991 - val_loss: 0.0101 - val_accuracy: 0.9991\n",
      "Epoch 6/10\n",
      "183/183 [==============================] - 0s 712us/step - loss: 0.0087 - accuracy: 0.9992 - val_loss: 0.0081 - val_accuracy: 0.9992\n",
      "Epoch 7/10\n",
      "183/183 [==============================] - 0s 676us/step - loss: 0.0071 - accuracy: 0.9992 - val_loss: 0.0069 - val_accuracy: 0.9992\n",
      "Epoch 8/10\n",
      "183/183 [==============================] - 0s 668us/step - loss: 0.0062 - accuracy: 0.9992 - val_loss: 0.0061 - val_accuracy: 0.9992\n",
      "Epoch 9/10\n",
      "183/183 [==============================] - 0s 679us/step - loss: 0.0055 - accuracy: 0.9992 - val_loss: 0.0056 - val_accuracy: 0.9991\n",
      "Epoch 10/10\n",
      "183/183 [==============================] - 0s 675us/step - loss: 0.0050 - accuracy: 0.9992 - val_loss: 0.0051 - val_accuracy: 0.9991\n"
     ]
    },
    {
     "data": {
      "text/plain": [
       "<keras.callbacks.History at 0x28d9a05b0>"
      ]
     },
     "execution_count": 27,
     "metadata": {},
     "output_type": "execute_result"
    }
   ],
   "source": [
    "model.fit(x_train, y_train, epochs=10,  \n",
    "          batch_size=1000,  \n",
    "          validation_split=0.2) "
   ]
  },
  {
   "cell_type": "markdown",
   "id": "609310a9",
   "metadata": {},
   "source": [
    "### creating a hidden layer consisting 15 neurons with hyperbolic tangent activation and sigmoid activation for output"
   ]
  },
  {
   "cell_type": "code",
   "execution_count": 28,
   "id": "dae5b6ec",
   "metadata": {},
   "outputs": [],
   "source": [
    "model1 = Sequential([ \n",
    "    Dense(input_dim=29,units=15, activation='tanh'),\n",
    "    Dense(units=1, activation='sigmoid')\n",
    "]) "
   ]
  },
  {
   "cell_type": "markdown",
   "id": "ce17a955",
   "metadata": {},
   "source": [
    "### Compiling using SGD optimizer "
   ]
  },
  {
   "cell_type": "code",
   "execution_count": 29,
   "id": "6573fb03",
   "metadata": {},
   "outputs": [],
   "source": [
    "model1.compile(optimizer='SGD', \n",
    "              loss='binary_crossentropy', \n",
    "              metrics=['accuracy']) "
   ]
  },
  {
   "cell_type": "markdown",
   "id": "8ced0e38",
   "metadata": {},
   "source": [
    "### Creating 10 epocs with batch of 1000"
   ]
  },
  {
   "cell_type": "code",
   "execution_count": 30,
   "id": "aa2279b9",
   "metadata": {},
   "outputs": [
    {
     "name": "stdout",
     "output_type": "stream",
     "text": [
      "Epoch 1/10\n",
      "183/183 [==============================] - 0s 891us/step - loss: 0.4962 - accuracy: 0.8098 - val_loss: 0.3274 - val_accuracy: 0.9718\n",
      "Epoch 2/10\n",
      "183/183 [==============================] - 0s 583us/step - loss: 0.2463 - accuracy: 0.9917 - val_loss: 0.1860 - val_accuracy: 0.9977\n",
      "Epoch 3/10\n",
      "183/183 [==============================] - 0s 576us/step - loss: 0.1505 - accuracy: 0.9982 - val_loss: 0.1228 - val_accuracy: 0.9981\n",
      "Epoch 4/10\n",
      "183/183 [==============================] - 0s 563us/step - loss: 0.1040 - accuracy: 0.9983 - val_loss: 0.0891 - val_accuracy: 0.9981\n",
      "Epoch 5/10\n",
      "183/183 [==============================] - 0s 555us/step - loss: 0.0778 - accuracy: 0.9983 - val_loss: 0.0690 - val_accuracy: 0.9981\n",
      "Epoch 6/10\n",
      "183/183 [==============================] - 0s 553us/step - loss: 0.0615 - accuracy: 0.9983 - val_loss: 0.0559 - val_accuracy: 0.9981\n",
      "Epoch 7/10\n",
      "183/183 [==============================] - 0s 563us/step - loss: 0.0506 - accuracy: 0.9983 - val_loss: 0.0468 - val_accuracy: 0.9981\n",
      "Epoch 8/10\n",
      "183/183 [==============================] - 0s 584us/step - loss: 0.0429 - accuracy: 0.9983 - val_loss: 0.0403 - val_accuracy: 0.9981\n",
      "Epoch 9/10\n",
      "183/183 [==============================] - 0s 608us/step - loss: 0.0372 - accuracy: 0.9983 - val_loss: 0.0353 - val_accuracy: 0.9981\n",
      "Epoch 10/10\n",
      "183/183 [==============================] - 0s 595us/step - loss: 0.0329 - accuracy: 0.9983 - val_loss: 0.0315 - val_accuracy: 0.9981\n"
     ]
    },
    {
     "data": {
      "text/plain": [
       "<keras.callbacks.History at 0x2908b3a30>"
      ]
     },
     "execution_count": 30,
     "metadata": {},
     "output_type": "execute_result"
    }
   ],
   "source": [
    "model1.fit(x_train, y_train, epochs=10,  \n",
    "          batch_size=1000,  \n",
    "          validation_split=0.2) "
   ]
  },
  {
   "cell_type": "markdown",
   "id": "914b538d",
   "metadata": {},
   "source": [
    "Since Relu has performed better we will go ahead with that model"
   ]
  },
  {
   "cell_type": "markdown",
   "id": "f300cc96",
   "metadata": {},
   "source": [
    "### Predicting values using testing test"
   ]
  },
  {
   "cell_type": "code",
   "execution_count": 31,
   "id": "409edbbc",
   "metadata": {},
   "outputs": [
    {
     "name": "stdout",
     "output_type": "stream",
     "text": [
      "1781/1781 [==============================] - 0s 262us/step\n"
     ]
    }
   ],
   "source": [
    "import numpy as np\n",
    "Y_PREC = np.where(1 , model.predict(x_test) > 0.5, 0)"
   ]
  },
  {
   "cell_type": "markdown",
   "id": "5dcf0be4",
   "metadata": {},
   "source": [
    "### Confusion matrix"
   ]
  },
  {
   "cell_type": "code",
   "execution_count": 32,
   "id": "4c39a40a",
   "metadata": {},
   "outputs": [
    {
     "data": {
      "text/plain": [
       "array([[56856,     8],\n",
       "       [   27,    71]])"
      ]
     },
     "execution_count": 32,
     "metadata": {},
     "output_type": "execute_result"
    }
   ],
   "source": [
    "from sklearn.metrics import confusion_matrix\n",
    "confusion_matrix(y_test,Y_PREC)"
   ]
  },
  {
   "cell_type": "markdown",
   "id": "0f34ae13",
   "metadata": {},
   "source": [
    "### Precision, Recall and f1-score"
   ]
  },
  {
   "cell_type": "code",
   "execution_count": 34,
   "id": "13d4e98b",
   "metadata": {},
   "outputs": [
    {
     "name": "stdout",
     "output_type": "stream",
     "text": [
      "              precision    recall  f1-score   support\n",
      "\n",
      "           0       1.00      1.00      1.00     56864\n",
      "           1       0.90      0.72      0.80        98\n",
      "\n",
      "    accuracy                           1.00     56962\n",
      "   macro avg       0.95      0.86      0.90     56962\n",
      "weighted avg       1.00      1.00      1.00     56962\n",
      "\n"
     ]
    }
   ],
   "source": [
    "from sklearn.metrics import classification_report\n",
    "print(classification_report(y_test,Y_PREC))"
   ]
  },
  {
   "cell_type": "markdown",
   "id": "e1a9bc5f",
   "metadata": {},
   "source": [
    "### Precision Recall Curve"
   ]
  },
  {
   "cell_type": "code",
   "execution_count": 46,
   "id": "547fedb1",
   "metadata": {},
   "outputs": [
    {
     "data": {
      "image/png": "[encoded data removed]",
      "text/plain": [
       "<Figure size 640x480 with 1 Axes>"
      ]
     },
     "metadata": {},
     "output_type": "display_data"
    }
   ],
   "source": [
    "from sklearn.metrics import PrecisionRecallDisplay\n",
    "display = PrecisionRecallDisplay.from_predictions(y_test, Y_PREC, name=\"MLP\")"
   ]
  },
  {
   "cell_type": "code",
   "execution_count": null,
   "id": "7c4012a5",
   "metadata": {},
   "outputs": [],
   "source": []
  }
 ],
 "metadata": {
  "kernelspec": {
   "display_name": "Python 3 (ipykernel)",
   "language": "python",
   "name": "python3"
  },
  "language_info": {
   "codemirror_mode": {
    "name": "ipython",
    "version": 3
   },
   "file_extension": ".py",
   "mimetype": "text/x-python",
   "name": "python",
   "nbconvert_exporter": "python",
   "pygments_lexer": "ipython3",
   "version": "3.10.9"
  }
 },
 "nbformat": 4,
 "nbformat_minor": 5
}
