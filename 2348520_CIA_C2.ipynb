{
 "cells": [
  {
   "cell_type": "markdown",
   "id": "0ef065c4",
   "metadata": {},
   "source": [
    "## Question 1"
   ]
  },
  {
   "cell_type": "code",
   "execution_count": 1,
   "id": "d093e36d",
   "metadata": {},
   "outputs": [
    {
     "name": "stdout",
     "output_type": "stream",
     "text": [
      "Iteration 1 - Speed: 49.9004, Distance: 99.9938\n",
      "Iteration 2 - Speed: 49.71116, Distance: 99.98201999999999\n",
      "Iteration 3 - Speed: 49.441244, Distance: 99.965218\n"
     ]
    }
   ],
   "source": [
    "s=50\n",
    "d=100\n",
    "learn=0.01\n",
    "momentum=0.9\n",
    "cost=0.1*s**2+0.5*d\n",
    "delivery=d/s+0.1*d\n",
    "cost_grads=0.2*s\n",
    "cost_gradd=0.5\n",
    "delivery_grads=-d/s**2\n",
    "delivery_gradd=1/s+ 0.1\n",
    "v_s=0\n",
    "v_d=0\n",
    "for i in range(3):\n",
    "    v_s =momentum*v_s-learn*(cost_grads+delivery_grads)\n",
    "    v_d =momentum*v_d-learn*(cost_gradd+delivery_gradd)\n",
    "    s+=v_s\n",
    "    d+=v_d\n",
    "    print(f\"Iteration {i+1} - Speed: {s}, Distance: {d}\")"
   ]
  },
  {
   "cell_type": "markdown",
   "id": "19beae55",
   "metadata": {},
   "source": [
    "## Question 2"
   ]
  },
  {
   "cell_type": "markdown",
   "id": "509cbddf",
   "metadata": {},
   "source": [
    "### Importing the dataset"
   ]
  },
  {
   "cell_type": "code",
   "execution_count": 2,
   "id": "2e1179ad",
   "metadata": {},
   "outputs": [
    {
     "data": {
      "text/html": [
       "<div>\n",
       "<style scoped>\n",
       "    .dataframe tbody tr th:only-of-type {\n",
       "        vertical-align: middle;\n",
       "    }\n",
       "\n",
       "    .dataframe tbody tr th {\n",
       "        vertical-align: top;\n",
       "    }\n",
       "\n",
       "    .dataframe thead th {\n",
       "        text-align: right;\n",
       "    }\n",
       "</style>\n",
       "<table border=\"1\" class=\"dataframe\">\n",
       "  <thead>\n",
       "    <tr style=\"text-align: right;\">\n",
       "      <th></th>\n",
       "      <th>date</th>\n",
       "      <th>open_price</th>\n",
       "      <th>high_price</th>\n",
       "      <th>low_price</th>\n",
       "      <th>close_price</th>\n",
       "      <th>volume</th>\n",
       "      <th>adjclose_price</th>\n",
       "    </tr>\n",
       "  </thead>\n",
       "  <tbody>\n",
       "    <tr>\n",
       "      <th>0</th>\n",
       "      <td>2021-01-28</td>\n",
       "      <td>265.000000</td>\n",
       "      <td>483.000000</td>\n",
       "      <td>112.250000</td>\n",
       "      <td>193.600006</td>\n",
       "      <td>58815800.0</td>\n",
       "      <td>193.600006</td>\n",
       "    </tr>\n",
       "    <tr>\n",
       "      <th>1</th>\n",
       "      <td>2021-01-27</td>\n",
       "      <td>354.829987</td>\n",
       "      <td>380.000000</td>\n",
       "      <td>249.000000</td>\n",
       "      <td>347.510010</td>\n",
       "      <td>93396700.0</td>\n",
       "      <td>347.510010</td>\n",
       "    </tr>\n",
       "    <tr>\n",
       "      <th>2</th>\n",
       "      <td>2021-01-26</td>\n",
       "      <td>88.559998</td>\n",
       "      <td>150.000000</td>\n",
       "      <td>80.199997</td>\n",
       "      <td>147.979996</td>\n",
       "      <td>178588000.0</td>\n",
       "      <td>147.979996</td>\n",
       "    </tr>\n",
       "    <tr>\n",
       "      <th>3</th>\n",
       "      <td>2021-01-25</td>\n",
       "      <td>96.730003</td>\n",
       "      <td>159.179993</td>\n",
       "      <td>61.130001</td>\n",
       "      <td>76.790001</td>\n",
       "      <td>177874000.0</td>\n",
       "      <td>76.790001</td>\n",
       "    </tr>\n",
       "    <tr>\n",
       "      <th>4</th>\n",
       "      <td>2021-01-22</td>\n",
       "      <td>42.590000</td>\n",
       "      <td>76.760002</td>\n",
       "      <td>42.320000</td>\n",
       "      <td>65.010002</td>\n",
       "      <td>196784300.0</td>\n",
       "      <td>65.010002</td>\n",
       "    </tr>\n",
       "  </tbody>\n",
       "</table>\n",
       "</div>"
      ],
      "text/plain": [
       "         date  open_price  high_price   low_price  close_price       volume  \\\n",
       "0  2021-01-28  265.000000  483.000000  112.250000   193.600006   58815800.0   \n",
       "1  2021-01-27  354.829987  380.000000  249.000000   347.510010   93396700.0   \n",
       "2  2021-01-26   88.559998  150.000000   80.199997   147.979996  178588000.0   \n",
       "3  2021-01-25   96.730003  159.179993   61.130001    76.790001  177874000.0   \n",
       "4  2021-01-22   42.590000   76.760002   42.320000    65.010002  196784300.0   \n",
       "\n",
       "   adjclose_price  \n",
       "0      193.600006  \n",
       "1      347.510010  \n",
       "2      147.979996  \n",
       "3       76.790001  \n",
       "4       65.010002  "
      ]
     },
     "execution_count": 2,
     "metadata": {},
     "output_type": "execute_result"
    }
   ],
   "source": [
    "import pandas as pd\n",
    "data=pd.read_csv('/Users/himanshugulechha/Desktop/MSc AI&ML/Sem3/DL/GME_stock.csv')\n",
    "data.head()"
   ]
  },
  {
   "cell_type": "markdown",
   "id": "6aa2fabf",
   "metadata": {},
   "source": [
    "### Checking for null values"
   ]
  },
  {
   "cell_type": "code",
   "execution_count": 3,
   "id": "fa93b8be",
   "metadata": {},
   "outputs": [
    {
     "data": {
      "text/plain": [
       "date              0\n",
       "open_price        0\n",
       "high_price        0\n",
       "low_price         0\n",
       "close_price       0\n",
       "volume            0\n",
       "adjclose_price    0\n",
       "dtype: int64"
      ]
     },
     "execution_count": 3,
     "metadata": {},
     "output_type": "execute_result"
    }
   ],
   "source": [
    "data.isnull().sum()"
   ]
  },
  {
   "cell_type": "markdown",
   "id": "4203309e",
   "metadata": {},
   "source": [
    "### Removing ouliers"
   ]
  },
  {
   "cell_type": "code",
   "execution_count": 4,
   "id": "0d663757",
   "metadata": {},
   "outputs": [
    {
     "data": {
      "text/plain": [
       "(4773, 7)"
      ]
     },
     "execution_count": 4,
     "metadata": {},
     "output_type": "execute_result"
    }
   ],
   "source": [
    "data.shape"
   ]
  },
  {
   "cell_type": "code",
   "execution_count": 5,
   "id": "82ecf33c",
   "metadata": {},
   "outputs": [],
   "source": [
    "import numpy as np\n",
    "import scipy.stats as stats\n",
    "def drop_outlier(data,col_name):\n",
    "    z= np.abs(stats.zscore(col_name))\n",
    "    data.drop(data.index[np.where(abs(z)>2.5)],inplace=True)\n",
    "drop_outlier(data,data['open_price'])\n",
    "drop_outlier(data,data['high_price'])\n",
    "drop_outlier(data,data['low_price'])\n",
    "drop_outlier(data,data['close_price'])\n",
    "drop_outlier(data,data['volume'])"
   ]
  },
  {
   "cell_type": "code",
   "execution_count": 6,
   "id": "b3097cf3",
   "metadata": {},
   "outputs": [
    {
     "data": {
      "text/plain": [
       "(4576, 7)"
      ]
     },
     "execution_count": 6,
     "metadata": {},
     "output_type": "execute_result"
    }
   ],
   "source": [
    "data.shape"
   ]
  },
  {
   "cell_type": "markdown",
   "id": "b3bbbee5",
   "metadata": {},
   "source": [
    "### Standardising the data"
   ]
  },
  {
   "cell_type": "code",
   "execution_count": 7,
   "id": "1c298d2e",
   "metadata": {},
   "outputs": [
    {
     "data": {
      "text/html": [
       "<div>\n",
       "<style scoped>\n",
       "    .dataframe tbody tr th:only-of-type {\n",
       "        vertical-align: middle;\n",
       "    }\n",
       "\n",
       "    .dataframe tbody tr th {\n",
       "        vertical-align: top;\n",
       "    }\n",
       "\n",
       "    .dataframe thead th {\n",
       "        text-align: right;\n",
       "    }\n",
       "</style>\n",
       "<table border=\"1\" class=\"dataframe\">\n",
       "  <thead>\n",
       "    <tr style=\"text-align: right;\">\n",
       "      <th></th>\n",
       "      <th>open_price</th>\n",
       "      <th>high_price</th>\n",
       "      <th>low_price</th>\n",
       "      <th>close_price</th>\n",
       "      <th>volume</th>\n",
       "      <th>adjclose_price</th>\n",
       "    </tr>\n",
       "  </thead>\n",
       "  <tbody>\n",
       "    <tr>\n",
       "      <th>11</th>\n",
       "      <td>-0.180224</td>\n",
       "      <td>-0.172555</td>\n",
       "      <td>-0.203325</td>\n",
       "      <td>-0.180398</td>\n",
       "      <td>1.908439</td>\n",
       "      <td>0.438470</td>\n",
       "    </tr>\n",
       "    <tr>\n",
       "      <th>13</th>\n",
       "      <td>-0.324673</td>\n",
       "      <td>-0.340440</td>\n",
       "      <td>-0.388248</td>\n",
       "      <td>-0.363923</td>\n",
       "      <td>1.634199</td>\n",
       "      <td>0.179071</td>\n",
       "    </tr>\n",
       "    <tr>\n",
       "      <th>14</th>\n",
       "      <td>-0.301139</td>\n",
       "      <td>-0.248503</td>\n",
       "      <td>-0.310646</td>\n",
       "      <td>-0.332253</td>\n",
       "      <td>1.480014</td>\n",
       "      <td>0.223834</td>\n",
       "    </tr>\n",
       "    <tr>\n",
       "      <th>15</th>\n",
       "      <td>-0.392840</td>\n",
       "      <td>-0.286077</td>\n",
       "      <td>-0.367609</td>\n",
       "      <td>-0.309515</td>\n",
       "      <td>1.446390</td>\n",
       "      <td>0.255972</td>\n",
       "    </tr>\n",
       "    <tr>\n",
       "      <th>16</th>\n",
       "      <td>-0.392028</td>\n",
       "      <td>-0.358028</td>\n",
       "      <td>-0.375865</td>\n",
       "      <td>-0.389909</td>\n",
       "      <td>0.942851</td>\n",
       "      <td>0.142342</td>\n",
       "    </tr>\n",
       "  </tbody>\n",
       "</table>\n",
       "</div>"
      ],
      "text/plain": [
       "    open_price  high_price  low_price  close_price    volume  adjclose_price\n",
       "11   -0.180224   -0.172555  -0.203325    -0.180398  1.908439        0.438470\n",
       "13   -0.324673   -0.340440  -0.388248    -0.363923  1.634199        0.179071\n",
       "14   -0.301139   -0.248503  -0.310646    -0.332253  1.480014        0.223834\n",
       "15   -0.392840   -0.286077  -0.367609    -0.309515  1.446390        0.255972\n",
       "16   -0.392028   -0.358028  -0.375865    -0.389909  0.942851        0.142342"
      ]
     },
     "execution_count": 7,
     "metadata": {},
     "output_type": "execute_result"
    }
   ],
   "source": [
    "data=data.drop(columns='date')\n",
    "from sklearn.preprocessing import StandardScaler\n",
    "sc=StandardScaler()\n",
    "for i in data.columns:\n",
    "    data[i]=sc.fit_transform(data[[i]])\n",
    "data.head()"
   ]
  },
  {
   "cell_type": "markdown",
   "id": "ef601520",
   "metadata": {},
   "source": [
    "### Splitting the target and predictors into training and testing"
   ]
  },
  {
   "cell_type": "code",
   "execution_count": 8,
   "id": "f1ad6823",
   "metadata": {},
   "outputs": [],
   "source": [
    "X=data.drop(columns='adjclose_price')\n",
    "Y=data['adjclose_price']\n",
    "from sklearn.model_selection import train_test_split\n",
    "x_train,x_test,y_train,y_test=train_test_split(X,Y,test_size=0.2)"
   ]
  },
  {
   "cell_type": "markdown",
   "id": "0adfc8c5",
   "metadata": {},
   "source": [
    "### Importing necessary libraries"
   ]
  },
  {
   "cell_type": "code",
   "execution_count": 9,
   "id": "f0c2e0c3",
   "metadata": {},
   "outputs": [],
   "source": [
    "from keras.models import Sequential\n",
    "from keras.layers import Activation, Dense, Dropout\n",
    "from keras import regularizers"
   ]
  },
  {
   "cell_type": "markdown",
   "id": "79cf20c1",
   "metadata": {},
   "source": [
    "### Fitting model with L1 Regularization"
   ]
  },
  {
   "cell_type": "code",
   "execution_count": 10,
   "id": "21d32dc8",
   "metadata": {},
   "outputs": [],
   "source": [
    "model = Sequential([ \n",
    "    Dense(input_dim=5,units=128, activation='relu',kernel_regularizer=regularizers.l1(0.01)),\n",
    "    Dropout(0.2),\n",
    "    Dense(units=64, activation='relu',kernel_regularizer=regularizers.l1(0.01)),\n",
    "    Dropout(0.2),\n",
    "    Dense(units=32, activation='relu',kernel_regularizer=regularizers.l1(0.01)),\n",
    "    Dropout(0.2),\n",
    "    Dense(units=1, activation='linear')\n",
    "]) "
   ]
  },
  {
   "cell_type": "code",
   "execution_count": 11,
   "id": "d60232db",
   "metadata": {},
   "outputs": [],
   "source": [
    "model.compile(optimizer='adam', \n",
    "              loss='mean_squared_error') "
   ]
  },
  {
   "cell_type": "code",
   "execution_count": 12,
   "id": "b6e05b06",
   "metadata": {},
   "outputs": [
    {
     "name": "stdout",
     "output_type": "stream",
     "text": [
      "Epoch 1/100\n"
     ]
    },
    {
     "name": "stderr",
     "output_type": "stream",
     "text": [
      "2024-03-13 12:28:54.589336: W tensorflow/tsl/platform/profile_utils/cpu_utils.cc:128] Failed to get CPU frequency: 0 Hz\n"
     ]
    },
    {
     "name": "stdout",
     "output_type": "stream",
     "text": [
      "6/6 [==============================] - 0s 17ms/step - loss: 11.5014 - val_loss: 10.7945\n",
      "Epoch 2/100\n",
      "6/6 [==============================] - 0s 4ms/step - loss: 10.5321 - val_loss: 10.0052\n",
      "Epoch 3/100\n",
      "6/6 [==============================] - 0s 4ms/step - loss: 9.8109 - val_loss: 9.3730\n",
      "Epoch 4/100\n",
      "6/6 [==============================] - 0s 4ms/step - loss: 9.2445 - val_loss: 8.8646\n",
      "Epoch 5/100\n",
      "6/6 [==============================] - 0s 4ms/step - loss: 8.7605 - val_loss: 8.3844\n",
      "Epoch 6/100\n",
      "6/6 [==============================] - 0s 4ms/step - loss: 8.2773 - val_loss: 7.9033\n",
      "Epoch 7/100\n",
      "6/6 [==============================] - 0s 4ms/step - loss: 7.8049 - val_loss: 7.4458\n",
      "Epoch 8/100\n",
      "6/6 [==============================] - 0s 4ms/step - loss: 7.3440 - val_loss: 6.9986\n",
      "Epoch 9/100\n",
      "6/6 [==============================] - 0s 4ms/step - loss: 6.8993 - val_loss: 6.5601\n",
      "Epoch 10/100\n",
      "6/6 [==============================] - 0s 4ms/step - loss: 6.4605 - val_loss: 6.1361\n",
      "Epoch 11/100\n",
      "6/6 [==============================] - 0s 4ms/step - loss: 6.0493 - val_loss: 5.7286\n",
      "Epoch 12/100\n",
      "6/6 [==============================] - 0s 4ms/step - loss: 5.6462 - val_loss: 5.3369\n",
      "Epoch 13/100\n",
      "6/6 [==============================] - 0s 4ms/step - loss: 5.2580 - val_loss: 4.9617\n",
      "Epoch 14/100\n",
      "6/6 [==============================] - 0s 4ms/step - loss: 4.8877 - val_loss: 4.6016\n",
      "Epoch 15/100\n",
      "6/6 [==============================] - 0s 4ms/step - loss: 4.5324 - val_loss: 4.2559\n",
      "Epoch 16/100\n",
      "6/6 [==============================] - 0s 4ms/step - loss: 4.1934 - val_loss: 3.9282\n",
      "Epoch 17/100\n",
      "6/6 [==============================] - 0s 5ms/step - loss: 3.8689 - val_loss: 3.6157\n",
      "Epoch 18/100\n",
      "6/6 [==============================] - 0s 4ms/step - loss: 3.5601 - val_loss: 3.3197\n",
      "Epoch 19/100\n",
      "6/6 [==============================] - 0s 4ms/step - loss: 3.2745 - val_loss: 3.0423\n",
      "Epoch 20/100\n",
      "6/6 [==============================] - 0s 4ms/step - loss: 3.0032 - val_loss: 2.7818\n",
      "Epoch 21/100\n",
      "6/6 [==============================] - 0s 4ms/step - loss: 2.7511 - val_loss: 2.5382\n",
      "Epoch 22/100\n",
      "6/6 [==============================] - 0s 4ms/step - loss: 2.5154 - val_loss: 2.3105\n",
      "Epoch 23/100\n",
      "6/6 [==============================] - 0s 4ms/step - loss: 2.2913 - val_loss: 2.1002\n",
      "Epoch 24/100\n",
      "6/6 [==============================] - 0s 4ms/step - loss: 2.0878 - val_loss: 1.9084\n",
      "Epoch 25/100\n",
      "6/6 [==============================] - 0s 4ms/step - loss: 1.9056 - val_loss: 1.7338\n",
      "Epoch 26/100\n",
      "6/6 [==============================] - 0s 4ms/step - loss: 1.7314 - val_loss: 1.5770\n",
      "Epoch 27/100\n",
      "6/6 [==============================] - 0s 4ms/step - loss: 1.5899 - val_loss: 1.4396\n",
      "Epoch 28/100\n",
      "6/6 [==============================] - 0s 4ms/step - loss: 1.4659 - val_loss: 1.3198\n",
      "Epoch 29/100\n",
      "6/6 [==============================] - 0s 4ms/step - loss: 1.3489 - val_loss: 1.2169\n",
      "Epoch 30/100\n",
      "6/6 [==============================] - 0s 4ms/step - loss: 1.2542 - val_loss: 1.1291\n",
      "Epoch 31/100\n",
      "6/6 [==============================] - 0s 4ms/step - loss: 1.1615 - val_loss: 1.0510\n",
      "Epoch 32/100\n",
      "6/6 [==============================] - 0s 4ms/step - loss: 1.0860 - val_loss: 0.9762\n",
      "Epoch 33/100\n",
      "6/6 [==============================] - 0s 4ms/step - loss: 1.0150 - val_loss: 0.9104\n",
      "Epoch 34/100\n",
      "6/6 [==============================] - 0s 4ms/step - loss: 0.9551 - val_loss: 0.8520\n",
      "Epoch 35/100\n",
      "6/6 [==============================] - 0s 4ms/step - loss: 0.9030 - val_loss: 0.7996\n",
      "Epoch 36/100\n",
      "6/6 [==============================] - 0s 4ms/step - loss: 0.8467 - val_loss: 0.7497\n",
      "Epoch 37/100\n",
      "6/6 [==============================] - 0s 4ms/step - loss: 0.8051 - val_loss: 0.7074\n",
      "Epoch 38/100\n",
      "6/6 [==============================] - 0s 4ms/step - loss: 0.7577 - val_loss: 0.6699\n",
      "Epoch 39/100\n",
      "6/6 [==============================] - 0s 4ms/step - loss: 0.7281 - val_loss: 0.6351\n",
      "Epoch 40/100\n",
      "6/6 [==============================] - 0s 4ms/step - loss: 0.6897 - val_loss: 0.6048\n",
      "Epoch 41/100\n",
      "6/6 [==============================] - 0s 4ms/step - loss: 0.6679 - val_loss: 0.5786\n",
      "Epoch 42/100\n",
      "6/6 [==============================] - 0s 4ms/step - loss: 0.6433 - val_loss: 0.5546\n",
      "Epoch 43/100\n",
      "6/6 [==============================] - 0s 4ms/step - loss: 0.6163 - val_loss: 0.5347\n",
      "Epoch 44/100\n",
      "6/6 [==============================] - 0s 4ms/step - loss: 0.6113 - val_loss: 0.5171\n",
      "Epoch 45/100\n",
      "6/6 [==============================] - 0s 4ms/step - loss: 0.5842 - val_loss: 0.4996\n",
      "Epoch 46/100\n",
      "6/6 [==============================] - 0s 4ms/step - loss: 0.5646 - val_loss: 0.4843\n",
      "Epoch 47/100\n",
      "6/6 [==============================] - 0s 4ms/step - loss: 0.5514 - val_loss: 0.4698\n",
      "Epoch 48/100\n",
      "6/6 [==============================] - 0s 5ms/step - loss: 0.5359 - val_loss: 0.4563\n",
      "Epoch 49/100\n",
      "6/6 [==============================] - 0s 5ms/step - loss: 0.5224 - val_loss: 0.4435\n",
      "Epoch 50/100\n",
      "6/6 [==============================] - 0s 5ms/step - loss: 0.5115 - val_loss: 0.4299\n",
      "Epoch 51/100\n",
      "6/6 [==============================] - 0s 5ms/step - loss: 0.5033 - val_loss: 0.4208\n",
      "Epoch 52/100\n",
      "6/6 [==============================] - 0s 5ms/step - loss: 0.4948 - val_loss: 0.4124\n",
      "Epoch 53/100\n",
      "6/6 [==============================] - 0s 5ms/step - loss: 0.4895 - val_loss: 0.4032\n",
      "Epoch 54/100\n",
      "6/6 [==============================] - 0s 5ms/step - loss: 0.4784 - val_loss: 0.3962\n",
      "Epoch 55/100\n",
      "6/6 [==============================] - 0s 5ms/step - loss: 0.4713 - val_loss: 0.3881\n",
      "Epoch 56/100\n",
      "6/6 [==============================] - 0s 5ms/step - loss: 0.4628 - val_loss: 0.3810\n",
      "Epoch 57/100\n",
      "6/6 [==============================] - 0s 4ms/step - loss: 0.4570 - val_loss: 0.3753\n",
      "Epoch 58/100\n",
      "6/6 [==============================] - 0s 4ms/step - loss: 0.4534 - val_loss: 0.3683\n",
      "Epoch 59/100\n",
      "6/6 [==============================] - 0s 5ms/step - loss: 0.4423 - val_loss: 0.3622\n",
      "Epoch 60/100\n",
      "6/6 [==============================] - 0s 4ms/step - loss: 0.4424 - val_loss: 0.3578\n",
      "Epoch 61/100\n",
      "6/6 [==============================] - 0s 4ms/step - loss: 0.4364 - val_loss: 0.3558\n",
      "Epoch 62/100\n",
      "6/6 [==============================] - 0s 4ms/step - loss: 0.4305 - val_loss: 0.3514\n",
      "Epoch 63/100\n",
      "6/6 [==============================] - 0s 4ms/step - loss: 0.4205 - val_loss: 0.3466\n",
      "Epoch 64/100\n",
      "6/6 [==============================] - 0s 4ms/step - loss: 0.4132 - val_loss: 0.3411\n",
      "Epoch 65/100\n",
      "6/6 [==============================] - 0s 4ms/step - loss: 0.4148 - val_loss: 0.3351\n",
      "Epoch 66/100\n",
      "6/6 [==============================] - 0s 4ms/step - loss: 0.4150 - val_loss: 0.3329\n",
      "Epoch 67/100\n",
      "6/6 [==============================] - 0s 5ms/step - loss: 0.4070 - val_loss: 0.3321\n",
      "Epoch 68/100\n",
      "6/6 [==============================] - 0s 5ms/step - loss: 0.4041 - val_loss: 0.3289\n",
      "Epoch 69/100\n",
      "6/6 [==============================] - 0s 5ms/step - loss: 0.4054 - val_loss: 0.3249\n",
      "Epoch 70/100\n",
      "6/6 [==============================] - 0s 4ms/step - loss: 0.4002 - val_loss: 0.3210\n",
      "Epoch 71/100\n",
      "6/6 [==============================] - 0s 4ms/step - loss: 0.4005 - val_loss: 0.3177\n",
      "Epoch 72/100\n",
      "6/6 [==============================] - 0s 4ms/step - loss: 0.3934 - val_loss: 0.3148\n",
      "Epoch 73/100\n",
      "6/6 [==============================] - 0s 4ms/step - loss: 0.4018 - val_loss: 0.3118\n",
      "Epoch 74/100\n",
      "6/6 [==============================] - 0s 4ms/step - loss: 0.3911 - val_loss: 0.3118\n",
      "Epoch 75/100\n",
      "6/6 [==============================] - 0s 5ms/step - loss: 0.3867 - val_loss: 0.3083\n",
      "Epoch 76/100\n",
      "6/6 [==============================] - 0s 4ms/step - loss: 0.3892 - val_loss: 0.3068\n",
      "Epoch 77/100\n",
      "6/6 [==============================] - 0s 4ms/step - loss: 0.3844 - val_loss: 0.3017\n",
      "Epoch 78/100\n",
      "6/6 [==============================] - 0s 4ms/step - loss: 0.3821 - val_loss: 0.2999\n",
      "Epoch 79/100\n",
      "6/6 [==============================] - 0s 4ms/step - loss: 0.3809 - val_loss: 0.3023\n",
      "Epoch 80/100\n",
      "6/6 [==============================] - 0s 4ms/step - loss: 0.3814 - val_loss: 0.2997\n",
      "Epoch 81/100\n",
      "6/6 [==============================] - 0s 4ms/step - loss: 0.3756 - val_loss: 0.2947\n",
      "Epoch 82/100\n",
      "6/6 [==============================] - 0s 4ms/step - loss: 0.3769 - val_loss: 0.2919\n",
      "Epoch 83/100\n",
      "6/6 [==============================] - 0s 4ms/step - loss: 0.3724 - val_loss: 0.2945\n",
      "Epoch 84/100\n",
      "6/6 [==============================] - 0s 4ms/step - loss: 0.3786 - val_loss: 0.2940\n"
     ]
    },
    {
     "name": "stdout",
     "output_type": "stream",
     "text": [
      "Epoch 85/100\n",
      "6/6 [==============================] - 0s 4ms/step - loss: 0.3645 - val_loss: 0.2889\n",
      "Epoch 86/100\n",
      "6/6 [==============================] - 0s 4ms/step - loss: 0.3663 - val_loss: 0.2874\n",
      "Epoch 87/100\n",
      "6/6 [==============================] - 0s 4ms/step - loss: 0.3678 - val_loss: 0.2874\n",
      "Epoch 88/100\n",
      "6/6 [==============================] - 0s 5ms/step - loss: 0.3615 - val_loss: 0.2859\n",
      "Epoch 89/100\n",
      "6/6 [==============================] - 0s 4ms/step - loss: 0.3579 - val_loss: 0.2833\n",
      "Epoch 90/100\n",
      "6/6 [==============================] - 0s 5ms/step - loss: 0.3664 - val_loss: 0.2809\n",
      "Epoch 91/100\n",
      "6/6 [==============================] - 0s 5ms/step - loss: 0.3642 - val_loss: 0.2815\n",
      "Epoch 92/100\n",
      "6/6 [==============================] - 0s 4ms/step - loss: 0.3596 - val_loss: 0.2805\n",
      "Epoch 93/100\n",
      "6/6 [==============================] - 0s 5ms/step - loss: 0.3601 - val_loss: 0.2794\n",
      "Epoch 94/100\n",
      "6/6 [==============================] - 0s 4ms/step - loss: 0.3550 - val_loss: 0.2755\n",
      "Epoch 95/100\n",
      "6/6 [==============================] - 0s 5ms/step - loss: 0.3592 - val_loss: 0.2741\n",
      "Epoch 96/100\n",
      "6/6 [==============================] - 0s 5ms/step - loss: 0.3557 - val_loss: 0.2752\n",
      "Epoch 97/100\n",
      "6/6 [==============================] - 0s 4ms/step - loss: 0.3656 - val_loss: 0.2733\n",
      "Epoch 98/100\n",
      "6/6 [==============================] - 0s 4ms/step - loss: 0.3622 - val_loss: 0.2738\n",
      "Epoch 99/100\n",
      "6/6 [==============================] - 0s 4ms/step - loss: 0.3513 - val_loss: 0.2752\n",
      "Epoch 100/100\n",
      "6/6 [==============================] - 0s 4ms/step - loss: 0.3478 - val_loss: 0.2713\n"
     ]
    },
    {
     "data": {
      "text/plain": [
       "<keras.callbacks.History at 0x149a864d0>"
      ]
     },
     "execution_count": 12,
     "metadata": {},
     "output_type": "execute_result"
    }
   ],
   "source": [
    "model.fit(x_train, y_train, epochs=100,  \n",
    "          batch_size=500,  \n",
    "          validation_split=0.2) "
   ]
  },
  {
   "cell_type": "markdown",
   "id": "0f1cfd05",
   "metadata": {},
   "source": [
    "### Fitting model with L2 Regularization"
   ]
  },
  {
   "cell_type": "code",
   "execution_count": 13,
   "id": "d1cdb8ba",
   "metadata": {},
   "outputs": [],
   "source": [
    "model1 = Sequential([ \n",
    "    Dense(input_dim=5,units=128, activation='relu',kernel_regularizer=regularizers.l2(0.01)),\n",
    "    Dropout(0.2),\n",
    "    Dense(units=64, activation='relu',kernel_regularizer=regularizers.l2(0.01)),\n",
    "    Dropout(0.2),\n",
    "    Dense(units=32, activation='relu',kernel_regularizer=regularizers.l2(0.01)),\n",
    "    Dropout(0.2),\n",
    "    Dense(units=1, activation='linear')\n",
    "]) "
   ]
  },
  {
   "cell_type": "code",
   "execution_count": 14,
   "id": "91583419",
   "metadata": {},
   "outputs": [],
   "source": [
    "model1.compile(optimizer='adam', \n",
    "              loss='mean_squared_error') "
   ]
  },
  {
   "cell_type": "code",
   "execution_count": 15,
   "id": "885671dc",
   "metadata": {},
   "outputs": [
    {
     "name": "stdout",
     "output_type": "stream",
     "text": [
      "Epoch 1/100\n",
      "6/6 [==============================] - 0s 13ms/step - loss: 2.2964 - val_loss: 1.8373\n",
      "Epoch 2/100\n",
      "6/6 [==============================] - 0s 4ms/step - loss: 1.7117 - val_loss: 1.4136\n",
      "Epoch 3/100\n",
      "6/6 [==============================] - 0s 4ms/step - loss: 1.4019 - val_loss: 1.2437\n",
      "Epoch 4/100\n",
      "6/6 [==============================] - 0s 4ms/step - loss: 1.3349 - val_loss: 1.1970\n",
      "Epoch 5/100\n",
      "6/6 [==============================] - 0s 4ms/step - loss: 1.2606 - val_loss: 1.1156\n",
      "Epoch 6/100\n",
      "6/6 [==============================] - 0s 4ms/step - loss: 1.1736 - val_loss: 1.0709\n",
      "Epoch 7/100\n",
      "6/6 [==============================] - 0s 4ms/step - loss: 1.1237 - val_loss: 1.0215\n",
      "Epoch 8/100\n",
      "6/6 [==============================] - 0s 5ms/step - loss: 1.0603 - val_loss: 0.9569\n",
      "Epoch 9/100\n",
      "6/6 [==============================] - 0s 4ms/step - loss: 1.0030 - val_loss: 0.8990\n",
      "Epoch 10/100\n",
      "6/6 [==============================] - 0s 5ms/step - loss: 0.9561 - val_loss: 0.8517\n",
      "Epoch 11/100\n",
      "6/6 [==============================] - 0s 4ms/step - loss: 0.9022 - val_loss: 0.8101\n",
      "Epoch 12/100\n",
      "6/6 [==============================] - 0s 4ms/step - loss: 0.8521 - val_loss: 0.7693\n",
      "Epoch 13/100\n",
      "6/6 [==============================] - 0s 4ms/step - loss: 0.8133 - val_loss: 0.7278\n",
      "Epoch 14/100\n",
      "6/6 [==============================] - 0s 4ms/step - loss: 0.7725 - val_loss: 0.6876\n",
      "Epoch 15/100\n",
      "6/6 [==============================] - 0s 4ms/step - loss: 0.7304 - val_loss: 0.6514\n",
      "Epoch 16/100\n",
      "6/6 [==============================] - 0s 4ms/step - loss: 0.6985 - val_loss: 0.6186\n",
      "Epoch 17/100\n",
      "6/6 [==============================] - 0s 5ms/step - loss: 0.6619 - val_loss: 0.5898\n",
      "Epoch 18/100\n",
      "6/6 [==============================] - 0s 5ms/step - loss: 0.6282 - val_loss: 0.5610\n",
      "Epoch 19/100\n",
      "6/6 [==============================] - 0s 4ms/step - loss: 0.6032 - val_loss: 0.5316\n",
      "Epoch 20/100\n",
      "6/6 [==============================] - 0s 5ms/step - loss: 0.5712 - val_loss: 0.5051\n",
      "Epoch 21/100\n",
      "6/6 [==============================] - 0s 5ms/step - loss: 0.5461 - val_loss: 0.4813\n",
      "Epoch 22/100\n",
      "6/6 [==============================] - 0s 4ms/step - loss: 0.5235 - val_loss: 0.4605\n",
      "Epoch 23/100\n",
      "6/6 [==============================] - 0s 4ms/step - loss: 0.4969 - val_loss: 0.4363\n",
      "Epoch 24/100\n",
      "6/6 [==============================] - 0s 4ms/step - loss: 0.4772 - val_loss: 0.4151\n",
      "Epoch 25/100\n",
      "6/6 [==============================] - 0s 5ms/step - loss: 0.4551 - val_loss: 0.4014\n",
      "Epoch 26/100\n",
      "6/6 [==============================] - 0s 4ms/step - loss: 0.4362 - val_loss: 0.3811\n",
      "Epoch 27/100\n",
      "6/6 [==============================] - 0s 5ms/step - loss: 0.4165 - val_loss: 0.3628\n",
      "Epoch 28/100\n",
      "6/6 [==============================] - 0s 5ms/step - loss: 0.4011 - val_loss: 0.3501\n",
      "Epoch 29/100\n",
      "6/6 [==============================] - 0s 4ms/step - loss: 0.3864 - val_loss: 0.3331\n",
      "Epoch 30/100\n",
      "6/6 [==============================] - 0s 4ms/step - loss: 0.3691 - val_loss: 0.3196\n",
      "Epoch 31/100\n",
      "6/6 [==============================] - 0s 4ms/step - loss: 0.3564 - val_loss: 0.3096\n",
      "Epoch 32/100\n",
      "6/6 [==============================] - 0s 4ms/step - loss: 0.3419 - val_loss: 0.2932\n",
      "Epoch 33/100\n",
      "6/6 [==============================] - 0s 5ms/step - loss: 0.3287 - val_loss: 0.2820\n",
      "Epoch 34/100\n",
      "6/6 [==============================] - 0s 5ms/step - loss: 0.3182 - val_loss: 0.2719\n",
      "Epoch 35/100\n",
      "6/6 [==============================] - 0s 4ms/step - loss: 0.3041 - val_loss: 0.2597\n",
      "Epoch 36/100\n",
      "6/6 [==============================] - 0s 4ms/step - loss: 0.2950 - val_loss: 0.2521\n",
      "Epoch 37/100\n",
      "6/6 [==============================] - 0s 4ms/step - loss: 0.2832 - val_loss: 0.2410\n",
      "Epoch 38/100\n",
      "6/6 [==============================] - 0s 4ms/step - loss: 0.2792 - val_loss: 0.2326\n",
      "Epoch 39/100\n",
      "6/6 [==============================] - 0s 4ms/step - loss: 0.2664 - val_loss: 0.2258\n",
      "Epoch 40/100\n",
      "6/6 [==============================] - 0s 4ms/step - loss: 0.2585 - val_loss: 0.2169\n",
      "Epoch 41/100\n",
      "6/6 [==============================] - 0s 4ms/step - loss: 0.2501 - val_loss: 0.2108\n",
      "Epoch 42/100\n",
      "6/6 [==============================] - 0s 4ms/step - loss: 0.2405 - val_loss: 0.2021\n",
      "Epoch 43/100\n",
      "6/6 [==============================] - 0s 4ms/step - loss: 0.2321 - val_loss: 0.1960\n",
      "Epoch 44/100\n",
      "6/6 [==============================] - 0s 4ms/step - loss: 0.2289 - val_loss: 0.1908\n",
      "Epoch 45/100\n",
      "6/6 [==============================] - 0s 4ms/step - loss: 0.2222 - val_loss: 0.1846\n",
      "Epoch 46/100\n",
      "6/6 [==============================] - 0s 4ms/step - loss: 0.2162 - val_loss: 0.1784\n",
      "Epoch 47/100\n",
      "6/6 [==============================] - 0s 4ms/step - loss: 0.2105 - val_loss: 0.1724\n",
      "Epoch 48/100\n",
      "6/6 [==============================] - 0s 4ms/step - loss: 0.2025 - val_loss: 0.1688\n",
      "Epoch 49/100\n",
      "6/6 [==============================] - 0s 4ms/step - loss: 0.2019 - val_loss: 0.1625\n",
      "Epoch 50/100\n",
      "6/6 [==============================] - 0s 4ms/step - loss: 0.1928 - val_loss: 0.1593\n",
      "Epoch 51/100\n",
      "6/6 [==============================] - 0s 5ms/step - loss: 0.1903 - val_loss: 0.1546\n",
      "Epoch 52/100\n",
      "6/6 [==============================] - 0s 4ms/step - loss: 0.1830 - val_loss: 0.1499\n",
      "Epoch 53/100\n",
      "6/6 [==============================] - 0s 4ms/step - loss: 0.1785 - val_loss: 0.1459\n",
      "Epoch 54/100\n",
      "6/6 [==============================] - 0s 4ms/step - loss: 0.1759 - val_loss: 0.1429\n",
      "Epoch 55/100\n",
      "6/6 [==============================] - 0s 4ms/step - loss: 0.1702 - val_loss: 0.1390\n",
      "Epoch 56/100\n",
      "6/6 [==============================] - 0s 4ms/step - loss: 0.1686 - val_loss: 0.1356\n",
      "Epoch 57/100\n",
      "6/6 [==============================] - 0s 4ms/step - loss: 0.1660 - val_loss: 0.1333\n",
      "Epoch 58/100\n",
      "6/6 [==============================] - 0s 4ms/step - loss: 0.1626 - val_loss: 0.1294\n",
      "Epoch 59/100\n",
      "6/6 [==============================] - 0s 4ms/step - loss: 0.1577 - val_loss: 0.1262\n",
      "Epoch 60/100\n",
      "6/6 [==============================] - 0s 4ms/step - loss: 0.1567 - val_loss: 0.1233\n",
      "Epoch 61/100\n",
      "6/6 [==============================] - 0s 4ms/step - loss: 0.1500 - val_loss: 0.1217\n",
      "Epoch 62/100\n",
      "6/6 [==============================] - 0s 4ms/step - loss: 0.1484 - val_loss: 0.1177\n",
      "Epoch 63/100\n",
      "6/6 [==============================] - 0s 4ms/step - loss: 0.1478 - val_loss: 0.1158\n",
      "Epoch 64/100\n",
      "6/6 [==============================] - 0s 4ms/step - loss: 0.1470 - val_loss: 0.1131\n",
      "Epoch 65/100\n",
      "6/6 [==============================] - 0s 4ms/step - loss: 0.1434 - val_loss: 0.1130\n",
      "Epoch 66/100\n",
      "6/6 [==============================] - 0s 4ms/step - loss: 0.1440 - val_loss: 0.1085\n",
      "Epoch 67/100\n",
      "6/6 [==============================] - 0s 4ms/step - loss: 0.1411 - val_loss: 0.1091\n",
      "Epoch 68/100\n",
      "6/6 [==============================] - 0s 4ms/step - loss: 0.1358 - val_loss: 0.1044\n",
      "Epoch 69/100\n",
      "6/6 [==============================] - 0s 4ms/step - loss: 0.1311 - val_loss: 0.1029\n",
      "Epoch 70/100\n",
      "6/6 [==============================] - 0s 4ms/step - loss: 0.1286 - val_loss: 0.1017\n",
      "Epoch 71/100\n",
      "6/6 [==============================] - 0s 4ms/step - loss: 0.1295 - val_loss: 0.0987\n",
      "Epoch 72/100\n",
      "6/6 [==============================] - 0s 4ms/step - loss: 0.1273 - val_loss: 0.0999\n",
      "Epoch 73/100\n",
      "6/6 [==============================] - 0s 4ms/step - loss: 0.1269 - val_loss: 0.0962\n",
      "Epoch 74/100\n",
      "6/6 [==============================] - 0s 4ms/step - loss: 0.1266 - val_loss: 0.0943\n",
      "Epoch 75/100\n",
      "6/6 [==============================] - 0s 4ms/step - loss: 0.1232 - val_loss: 0.0952\n",
      "Epoch 76/100\n",
      "6/6 [==============================] - 0s 4ms/step - loss: 0.1206 - val_loss: 0.0910\n",
      "Epoch 77/100\n",
      "6/6 [==============================] - 0s 4ms/step - loss: 0.1206 - val_loss: 0.0903\n",
      "Epoch 78/100\n",
      "6/6 [==============================] - 0s 4ms/step - loss: 0.1210 - val_loss: 0.0889\n",
      "Epoch 79/100\n",
      "6/6 [==============================] - 0s 4ms/step - loss: 0.1172 - val_loss: 0.0871\n",
      "Epoch 80/100\n",
      "6/6 [==============================] - 0s 4ms/step - loss: 0.1153 - val_loss: 0.0893\n",
      "Epoch 81/100\n",
      "6/6 [==============================] - 0s 4ms/step - loss: 0.1159 - val_loss: 0.0846\n",
      "Epoch 82/100\n",
      "6/6 [==============================] - 0s 4ms/step - loss: 0.1136 - val_loss: 0.0844\n",
      "Epoch 83/100\n",
      "6/6 [==============================] - 0s 4ms/step - loss: 0.1120 - val_loss: 0.0827\n",
      "Epoch 84/100\n"
     ]
    },
    {
     "name": "stdout",
     "output_type": "stream",
     "text": [
      "6/6 [==============================] - 0s 4ms/step - loss: 0.1112 - val_loss: 0.0812\n",
      "Epoch 85/100\n",
      "6/6 [==============================] - 0s 4ms/step - loss: 0.1095 - val_loss: 0.0811\n",
      "Epoch 86/100\n",
      "6/6 [==============================] - 0s 4ms/step - loss: 0.1106 - val_loss: 0.0789\n",
      "Epoch 87/100\n",
      "6/6 [==============================] - 0s 4ms/step - loss: 0.1084 - val_loss: 0.0790\n",
      "Epoch 88/100\n",
      "6/6 [==============================] - 0s 4ms/step - loss: 0.1057 - val_loss: 0.0772\n",
      "Epoch 89/100\n",
      "6/6 [==============================] - 0s 4ms/step - loss: 0.1069 - val_loss: 0.0777\n",
      "Epoch 90/100\n",
      "6/6 [==============================] - 0s 4ms/step - loss: 0.1056 - val_loss: 0.0754\n",
      "Epoch 91/100\n",
      "6/6 [==============================] - 0s 4ms/step - loss: 0.1044 - val_loss: 0.0760\n",
      "Epoch 92/100\n",
      "6/6 [==============================] - 0s 5ms/step - loss: 0.1049 - val_loss: 0.0745\n",
      "Epoch 93/100\n",
      "6/6 [==============================] - 0s 5ms/step - loss: 0.1033 - val_loss: 0.0735\n",
      "Epoch 94/100\n",
      "6/6 [==============================] - 0s 5ms/step - loss: 0.0996 - val_loss: 0.0726\n",
      "Epoch 95/100\n",
      "6/6 [==============================] - 0s 5ms/step - loss: 0.1001 - val_loss: 0.0727\n",
      "Epoch 96/100\n",
      "6/6 [==============================] - 0s 4ms/step - loss: 0.1017 - val_loss: 0.0706\n",
      "Epoch 97/100\n",
      "6/6 [==============================] - 0s 4ms/step - loss: 0.0988 - val_loss: 0.0714\n",
      "Epoch 98/100\n",
      "6/6 [==============================] - 0s 4ms/step - loss: 0.0995 - val_loss: 0.0699\n",
      "Epoch 99/100\n",
      "6/6 [==============================] - 0s 4ms/step - loss: 0.0992 - val_loss: 0.0695\n",
      "Epoch 100/100\n",
      "6/6 [==============================] - 0s 5ms/step - loss: 0.0969 - val_loss: 0.0693\n"
     ]
    },
    {
     "data": {
      "text/plain": [
       "<keras.callbacks.History at 0x149e73d00>"
      ]
     },
     "execution_count": 15,
     "metadata": {},
     "output_type": "execute_result"
    }
   ],
   "source": [
    "model1.fit(x_train, y_train, epochs=100,  \n",
    "          batch_size=500,  \n",
    "          validation_split=0.2) "
   ]
  },
  {
   "cell_type": "markdown",
   "id": "76b8b913",
   "metadata": {},
   "source": [
    "### Fitting model with Elastic Net Regularization"
   ]
  },
  {
   "cell_type": "code",
   "execution_count": 16,
   "id": "ca860794",
   "metadata": {},
   "outputs": [],
   "source": [
    "model2 = Sequential([ \n",
    "    Dense(input_dim=5,units=128, activation='relu',kernel_regularizer=regularizers.l1_l2(0.01)),\n",
    "    Dropout(0.2),\n",
    "    Dense(units=64, activation='relu',kernel_regularizer=regularizers.l1_l2(0.01)),\n",
    "    Dropout(0.2),\n",
    "    Dense(units=32, activation='relu',kernel_regularizer=regularizers.l1_l2(0.01)),\n",
    "    Dropout(0.2),\n",
    "    Dense(units=1, activation='linear')\n",
    "]) "
   ]
  },
  {
   "cell_type": "code",
   "execution_count": 17,
   "id": "38c9aba2",
   "metadata": {},
   "outputs": [],
   "source": [
    "model2.compile(optimizer='adam', \n",
    "              loss='mean_squared_error') "
   ]
  },
  {
   "cell_type": "code",
   "execution_count": 18,
   "id": "30807576",
   "metadata": {},
   "outputs": [
    {
     "name": "stdout",
     "output_type": "stream",
     "text": [
      "Epoch 1/100\n",
      "6/6 [==============================] - 0s 15ms/step - loss: 12.5220 - val_loss: 11.8223\n",
      "Epoch 2/100\n",
      "6/6 [==============================] - 0s 4ms/step - loss: 11.5383 - val_loss: 10.9987\n",
      "Epoch 3/100\n",
      "6/6 [==============================] - 0s 4ms/step - loss: 10.8057 - val_loss: 10.3487\n",
      "Epoch 4/100\n",
      "6/6 [==============================] - 0s 4ms/step - loss: 10.1994 - val_loss: 9.7525\n",
      "Epoch 5/100\n",
      "6/6 [==============================] - 0s 4ms/step - loss: 9.5985 - val_loss: 9.1629\n",
      "Epoch 6/100\n",
      "6/6 [==============================] - 0s 4ms/step - loss: 9.0085 - val_loss: 8.6018\n",
      "Epoch 7/100\n",
      "6/6 [==============================] - 0s 4ms/step - loss: 8.4544 - val_loss: 8.0614\n",
      "Epoch 8/100\n",
      "6/6 [==============================] - 0s 4ms/step - loss: 7.9206 - val_loss: 7.5363\n",
      "Epoch 9/100\n",
      "6/6 [==============================] - 0s 4ms/step - loss: 7.3935 - val_loss: 7.0287\n",
      "Epoch 10/100\n",
      "6/6 [==============================] - 0s 4ms/step - loss: 6.9044 - val_loss: 6.5446\n",
      "Epoch 11/100\n",
      "6/6 [==============================] - 0s 4ms/step - loss: 6.4214 - val_loss: 6.0816\n",
      "Epoch 12/100\n",
      "6/6 [==============================] - 0s 4ms/step - loss: 5.9655 - val_loss: 5.6418\n",
      "Epoch 13/100\n",
      "6/6 [==============================] - 0s 4ms/step - loss: 5.5347 - val_loss: 5.2213\n",
      "Epoch 14/100\n",
      "6/6 [==============================] - 0s 4ms/step - loss: 5.1206 - val_loss: 4.8212\n",
      "Epoch 15/100\n",
      "6/6 [==============================] - 0s 4ms/step - loss: 4.7259 - val_loss: 4.4420\n",
      "Epoch 16/100\n",
      "6/6 [==============================] - 0s 4ms/step - loss: 4.3589 - val_loss: 4.0826\n",
      "Epoch 17/100\n",
      "6/6 [==============================] - 0s 4ms/step - loss: 4.0136 - val_loss: 3.7446\n",
      "Epoch 18/100\n",
      "6/6 [==============================] - 0s 4ms/step - loss: 3.6818 - val_loss: 3.4278\n",
      "Epoch 19/100\n",
      "6/6 [==============================] - 0s 4ms/step - loss: 3.3717 - val_loss: 3.1296\n",
      "Epoch 20/100\n",
      "6/6 [==============================] - 0s 4ms/step - loss: 3.0799 - val_loss: 2.8514\n",
      "Epoch 21/100\n",
      "6/6 [==============================] - 0s 4ms/step - loss: 2.8034 - val_loss: 2.5925\n",
      "Epoch 22/100\n",
      "6/6 [==============================] - 0s 4ms/step - loss: 2.5610 - val_loss: 2.3533\n",
      "Epoch 23/100\n",
      "6/6 [==============================] - 0s 4ms/step - loss: 2.3258 - val_loss: 2.1315\n",
      "Epoch 24/100\n",
      "6/6 [==============================] - 0s 4ms/step - loss: 2.1091 - val_loss: 1.9285\n",
      "Epoch 25/100\n",
      "6/6 [==============================] - 0s 5ms/step - loss: 1.9117 - val_loss: 1.7439\n",
      "Epoch 26/100\n",
      "6/6 [==============================] - 0s 4ms/step - loss: 1.7448 - val_loss: 1.5774\n",
      "Epoch 27/100\n",
      "6/6 [==============================] - 0s 4ms/step - loss: 1.5770 - val_loss: 1.4279\n",
      "Epoch 28/100\n",
      "6/6 [==============================] - 0s 4ms/step - loss: 1.4360 - val_loss: 1.2956\n",
      "Epoch 29/100\n",
      "6/6 [==============================] - 0s 5ms/step - loss: 1.3167 - val_loss: 1.1773\n",
      "Epoch 30/100\n",
      "6/6 [==============================] - 0s 4ms/step - loss: 1.2048 - val_loss: 1.0789\n",
      "Epoch 31/100\n",
      "6/6 [==============================] - 0s 5ms/step - loss: 1.1159 - val_loss: 0.9933\n",
      "Epoch 32/100\n",
      "6/6 [==============================] - 0s 4ms/step - loss: 1.0285 - val_loss: 0.9191\n",
      "Epoch 33/100\n",
      "6/6 [==============================] - 0s 5ms/step - loss: 0.9561 - val_loss: 0.8550\n",
      "Epoch 34/100\n",
      "6/6 [==============================] - 0s 4ms/step - loss: 0.9007 - val_loss: 0.7959\n",
      "Epoch 35/100\n",
      "6/6 [==============================] - 0s 4ms/step - loss: 0.8491 - val_loss: 0.7437\n",
      "Epoch 36/100\n",
      "6/6 [==============================] - 0s 4ms/step - loss: 0.7982 - val_loss: 0.6971\n",
      "Epoch 37/100\n",
      "6/6 [==============================] - 0s 4ms/step - loss: 0.7507 - val_loss: 0.6564\n",
      "Epoch 38/100\n",
      "6/6 [==============================] - 0s 4ms/step - loss: 0.7115 - val_loss: 0.6191\n",
      "Epoch 39/100\n",
      "6/6 [==============================] - 0s 4ms/step - loss: 0.6728 - val_loss: 0.5851\n",
      "Epoch 40/100\n",
      "6/6 [==============================] - 0s 4ms/step - loss: 0.6474 - val_loss: 0.5562\n",
      "Epoch 41/100\n",
      "6/6 [==============================] - 0s 4ms/step - loss: 0.6223 - val_loss: 0.5301\n",
      "Epoch 42/100\n",
      "6/6 [==============================] - 0s 4ms/step - loss: 0.5989 - val_loss: 0.5081\n",
      "Epoch 43/100\n",
      "6/6 [==============================] - 0s 4ms/step - loss: 0.5757 - val_loss: 0.4887\n",
      "Epoch 44/100\n",
      "6/6 [==============================] - 0s 4ms/step - loss: 0.5687 - val_loss: 0.4715\n",
      "Epoch 45/100\n",
      "6/6 [==============================] - 0s 4ms/step - loss: 0.5408 - val_loss: 0.4587\n",
      "Epoch 46/100\n",
      "6/6 [==============================] - 0s 4ms/step - loss: 0.5317 - val_loss: 0.4449\n",
      "Epoch 47/100\n",
      "6/6 [==============================] - 0s 4ms/step - loss: 0.5220 - val_loss: 0.4324\n",
      "Epoch 48/100\n",
      "6/6 [==============================] - 0s 4ms/step - loss: 0.5081 - val_loss: 0.4217\n",
      "Epoch 49/100\n",
      "6/6 [==============================] - 0s 4ms/step - loss: 0.5009 - val_loss: 0.4119\n",
      "Epoch 50/100\n",
      "6/6 [==============================] - 0s 4ms/step - loss: 0.4871 - val_loss: 0.4032\n",
      "Epoch 51/100\n",
      "6/6 [==============================] - 0s 5ms/step - loss: 0.4806 - val_loss: 0.3951\n",
      "Epoch 52/100\n",
      "6/6 [==============================] - 0s 4ms/step - loss: 0.4752 - val_loss: 0.3879\n",
      "Epoch 53/100\n",
      "6/6 [==============================] - 0s 4ms/step - loss: 0.4625 - val_loss: 0.3814\n",
      "Epoch 54/100\n",
      "6/6 [==============================] - 0s 4ms/step - loss: 0.4491 - val_loss: 0.3765\n",
      "Epoch 55/100\n",
      "6/6 [==============================] - 0s 4ms/step - loss: 0.4510 - val_loss: 0.3689\n",
      "Epoch 56/100\n",
      "6/6 [==============================] - 0s 4ms/step - loss: 0.4470 - val_loss: 0.3625\n",
      "Epoch 57/100\n",
      "6/6 [==============================] - 0s 4ms/step - loss: 0.4429 - val_loss: 0.3603\n",
      "Epoch 58/100\n",
      "6/6 [==============================] - 0s 4ms/step - loss: 0.4415 - val_loss: 0.3542\n",
      "Epoch 59/100\n",
      "6/6 [==============================] - 0s 4ms/step - loss: 0.4271 - val_loss: 0.3501\n",
      "Epoch 60/100\n",
      "6/6 [==============================] - 0s 4ms/step - loss: 0.4273 - val_loss: 0.3471\n",
      "Epoch 61/100\n",
      "6/6 [==============================] - 0s 4ms/step - loss: 0.4269 - val_loss: 0.3429\n",
      "Epoch 62/100\n",
      "6/6 [==============================] - 0s 4ms/step - loss: 0.4259 - val_loss: 0.3380\n",
      "Epoch 63/100\n",
      "6/6 [==============================] - 0s 4ms/step - loss: 0.4178 - val_loss: 0.3337\n",
      "Epoch 64/100\n",
      "6/6 [==============================] - 0s 4ms/step - loss: 0.4139 - val_loss: 0.3296\n",
      "Epoch 65/100\n",
      "6/6 [==============================] - 0s 4ms/step - loss: 0.4075 - val_loss: 0.3291\n",
      "Epoch 66/100\n",
      "6/6 [==============================] - 0s 4ms/step - loss: 0.4145 - val_loss: 0.3261\n",
      "Epoch 67/100\n",
      "6/6 [==============================] - 0s 4ms/step - loss: 0.4128 - val_loss: 0.3213\n",
      "Epoch 68/100\n",
      "6/6 [==============================] - 0s 4ms/step - loss: 0.4002 - val_loss: 0.3181\n",
      "Epoch 69/100\n",
      "6/6 [==============================] - 0s 4ms/step - loss: 0.3997 - val_loss: 0.3178\n",
      "Epoch 70/100\n",
      "6/6 [==============================] - 0s 4ms/step - loss: 0.3980 - val_loss: 0.3152\n",
      "Epoch 71/100\n",
      "6/6 [==============================] - 0s 4ms/step - loss: 0.3940 - val_loss: 0.3122\n",
      "Epoch 72/100\n",
      "6/6 [==============================] - 0s 4ms/step - loss: 0.3950 - val_loss: 0.3090\n",
      "Epoch 73/100\n",
      "6/6 [==============================] - 0s 4ms/step - loss: 0.3959 - val_loss: 0.3065\n",
      "Epoch 74/100\n",
      "6/6 [==============================] - 0s 4ms/step - loss: 0.3820 - val_loss: 0.3051\n",
      "Epoch 75/100\n",
      "6/6 [==============================] - 0s 4ms/step - loss: 0.3853 - val_loss: 0.3026\n",
      "Epoch 76/100\n",
      "6/6 [==============================] - 0s 4ms/step - loss: 0.3871 - val_loss: 0.3011\n",
      "Epoch 77/100\n",
      "6/6 [==============================] - 0s 4ms/step - loss: 0.3846 - val_loss: 0.2994\n",
      "Epoch 78/100\n",
      "6/6 [==============================] - 0s 4ms/step - loss: 0.3810 - val_loss: 0.2971\n",
      "Epoch 79/100\n",
      "6/6 [==============================] - 0s 4ms/step - loss: 0.3795 - val_loss: 0.2968\n",
      "Epoch 80/100\n",
      "6/6 [==============================] - 0s 4ms/step - loss: 0.3788 - val_loss: 0.2939\n",
      "Epoch 81/100\n",
      "6/6 [==============================] - 0s 4ms/step - loss: 0.3756 - val_loss: 0.2900\n",
      "Epoch 82/100\n",
      "6/6 [==============================] - 0s 4ms/step - loss: 0.3726 - val_loss: 0.2891\n",
      "Epoch 83/100\n",
      "6/6 [==============================] - 0s 4ms/step - loss: 0.3690 - val_loss: 0.2906\n",
      "Epoch 84/100\n"
     ]
    },
    {
     "name": "stdout",
     "output_type": "stream",
     "text": [
      "6/6 [==============================] - 0s 4ms/step - loss: 0.3714 - val_loss: 0.2858\n",
      "Epoch 85/100\n",
      "6/6 [==============================] - 0s 4ms/step - loss: 0.3691 - val_loss: 0.2829\n",
      "Epoch 86/100\n",
      "6/6 [==============================] - 0s 4ms/step - loss: 0.3630 - val_loss: 0.2871\n",
      "Epoch 87/100\n",
      "6/6 [==============================] - 0s 4ms/step - loss: 0.3619 - val_loss: 0.2860\n",
      "Epoch 88/100\n",
      "6/6 [==============================] - 0s 4ms/step - loss: 0.3705 - val_loss: 0.2820\n",
      "Epoch 89/100\n",
      "6/6 [==============================] - 0s 4ms/step - loss: 0.3671 - val_loss: 0.2831\n",
      "Epoch 90/100\n",
      "6/6 [==============================] - 0s 4ms/step - loss: 0.3625 - val_loss: 0.2824\n",
      "Epoch 91/100\n",
      "6/6 [==============================] - 0s 4ms/step - loss: 0.3625 - val_loss: 0.2805\n",
      "Epoch 92/100\n",
      "6/6 [==============================] - 0s 4ms/step - loss: 0.3622 - val_loss: 0.2788\n",
      "Epoch 93/100\n",
      "6/6 [==============================] - 0s 4ms/step - loss: 0.3629 - val_loss: 0.2762\n",
      "Epoch 94/100\n",
      "6/6 [==============================] - 0s 4ms/step - loss: 0.3630 - val_loss: 0.2766\n",
      "Epoch 95/100\n",
      "6/6 [==============================] - 0s 4ms/step - loss: 0.3605 - val_loss: 0.2789\n",
      "Epoch 96/100\n",
      "6/6 [==============================] - 0s 4ms/step - loss: 0.3595 - val_loss: 0.2789\n",
      "Epoch 97/100\n",
      "6/6 [==============================] - 0s 4ms/step - loss: 0.3650 - val_loss: 0.2756\n",
      "Epoch 98/100\n",
      "6/6 [==============================] - 0s 4ms/step - loss: 0.3558 - val_loss: 0.2745\n",
      "Epoch 99/100\n",
      "6/6 [==============================] - 0s 4ms/step - loss: 0.3665 - val_loss: 0.2729\n",
      "Epoch 100/100\n",
      "6/6 [==============================] - 0s 4ms/step - loss: 0.3598 - val_loss: 0.2741\n"
     ]
    },
    {
     "data": {
      "text/plain": [
       "<keras.callbacks.History at 0x149fe3550>"
      ]
     },
     "execution_count": 18,
     "metadata": {},
     "output_type": "execute_result"
    }
   ],
   "source": [
    "model2.fit(x_train, y_train, epochs=100,  \n",
    "          batch_size=500,  \n",
    "          validation_split=0.2) "
   ]
  },
  {
   "cell_type": "markdown",
   "id": "a350946d",
   "metadata": {},
   "source": [
    "### Predicting values"
   ]
  },
  {
   "cell_type": "code",
   "execution_count": 19,
   "id": "4f2105dc",
   "metadata": {},
   "outputs": [
    {
     "name": "stdout",
     "output_type": "stream",
     "text": [
      "29/29 [==============================] - 0s 349us/step\n",
      "29/29 [==============================] - 0s 369us/step\n",
      "29/29 [==============================] - 0s 350us/step\n"
     ]
    }
   ],
   "source": [
    "Y_PRED=model.predict(x_test)\n",
    "Y_PRED1=model1.predict(x_test)\n",
    "Y_PRED2=model2.predict(x_test)"
   ]
  },
  {
   "cell_type": "markdown",
   "id": "3a1173a3",
   "metadata": {},
   "source": [
    "### Plotting predctions with actual "
   ]
  },
  {
   "cell_type": "code",
   "execution_count": 52,
   "id": "0622cdde",
   "metadata": {},
   "outputs": [
    {
     "data": {
      "image/png": "[encoded data removed]",
      "text/plain": [
       "<Figure size 1000x600 with 1 Axes>"
      ]
     },
     "metadata": {},
     "output_type": "display_data"
    }
   ],
   "source": [
    "plt.figure(figsize=(10,6))\n",
    "plt.plot(y_test1[:10], color = 'red', label = 'Real Stock Price')\n",
    "plt.plot(Y_PRED.reshape(916)[:10], color = 'blue', label = 'Predicted Stock Price L1')\n",
    "plt.plot(Y_PRED1.reshape(916)[:10], color = 'green', label = 'Predicted Stock Price L2')\n",
    "plt.plot(Y_PRED2.reshape(916)[:10], color = 'orange', label = 'Predicted Stock Price Elastic Net')\n",
    "plt.legend()\n",
    "plt.show()"
   ]
  },
  {
   "cell_type": "markdown",
   "id": "25e636cb",
   "metadata": {},
   "source": [
    "### Comparing all the models based on Mean Square Error"
   ]
  },
  {
   "cell_type": "code",
   "execution_count": 20,
   "id": "3aef0ee4",
   "metadata": {},
   "outputs": [
    {
     "data": {
      "text/plain": [
       "<BarContainer object of 3 artists>"
      ]
     },
     "execution_count": 20,
     "metadata": {},
     "output_type": "execute_result"
    },
    {
     "data": {
      "image/png": "[encoded data removed]",
      "text/plain": [
       "<Figure size 640x480 with 1 Axes>"
      ]
     },
     "metadata": {},
     "output_type": "display_data"
    }
   ],
   "source": [
    "from sklearn.metrics import mean_squared_error\n",
    "models=['L1','L2','Elastic Net']\n",
    "value=[mean_squared_error(y_test,Y_PRED),mean_squared_error(y_test,Y_PRED1),mean_squared_error(y_test,Y_PRED2)]\n",
    "import matplotlib.pyplot as plt\n",
    "plt.bar(models,value)"
   ]
  },
  {
   "cell_type": "markdown",
   "id": "043c5217",
   "metadata": {},
   "source": [
    "### Comparing all the models based on Mean Absolute Error"
   ]
  },
  {
   "cell_type": "code",
   "execution_count": 21,
   "id": "137c5a25",
   "metadata": {},
   "outputs": [
    {
     "data": {
      "text/plain": [
       "<BarContainer object of 3 artists>"
      ]
     },
     "execution_count": 21,
     "metadata": {},
     "output_type": "execute_result"
    },
    {
     "data": {
      "image/png": "[encoded data removed]",
      "text/plain": [
       "<Figure size 640x480 with 1 Axes>"
      ]
     },
     "metadata": {},
     "output_type": "display_data"
    }
   ],
   "source": [
    "from sklearn.metrics import mean_absolute_error\n",
    "values=[mean_absolute_error(y_test,Y_PRED),mean_absolute_error(y_test,Y_PRED1),mean_absolute_error(y_test,Y_PRED2)]\n",
    "plt.bar(models,values)"
   ]
  },
  {
   "cell_type": "code",
   "execution_count": null,
   "id": "a85ed32e",
   "metadata": {},
   "outputs": [],
   "source": []
  }
 ],
 "metadata": {
  "kernelspec": {
   "display_name": "Python 3 (ipykernel)",
   "language": "python",
   "name": "python3"
  },
  "language_info": {
   "codemirror_mode": {
    "name": "ipython",
    "version": 3
   },
   "file_extension": ".py",
   "mimetype": "text/x-python",
   "name": "python",
   "nbconvert_exporter": "python",
   "pygments_lexer": "ipython3",
   "version": "3.10.9"
  }
 },
 "nbformat": 4,
 "nbformat_minor": 5
}
